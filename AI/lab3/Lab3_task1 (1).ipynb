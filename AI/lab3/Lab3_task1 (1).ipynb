{
 "cells": [
  {
   "cell_type": "code",
   "execution_count": 39,
   "metadata": {},
   "outputs": [
    {
     "name": "stdout",
     "output_type": "stream",
     "text": [
      "Requirement already satisfied: xlrd in c:\\users\\rsamanta\\anaconda3\\lib\\site-packages (1.2.0)\n",
      "Requirement already satisfied: pandas in c:\\users\\rsamanta\\anaconda3\\lib\\site-packages (1.1.2)\n",
      "Requirement already satisfied: python-dateutil>=2.7.3 in c:\\users\\rsamanta\\anaconda3\\lib\\site-packages (from pandas) (2.8.1)\n",
      "Requirement already satisfied: pytz>=2017.2 in c:\\users\\rsamanta\\anaconda3\\lib\\site-packages (from pandas) (2020.1)\n",
      "Requirement already satisfied: numpy>=1.15.4 in c:\\users\\rsamanta\\anaconda3\\lib\\site-packages (from pandas) (1.18.5)\n",
      "Requirement already satisfied: six>=1.5 in c:\\users\\rsamanta\\anaconda3\\lib\\site-packages (from python-dateutil>=2.7.3->pandas) (1.15.0)\n"
     ]
    }
   ],
   "source": [
    "!pip install xlrd pandas"
   ]
  },
  {
   "cell_type": "markdown",
   "metadata": {},
   "source": [
    "# Bayesian Networks\n",
    "\n",
    "In this notebool, we will use bnlearn package to generate Bayesian Networks, based on structure learning and parameter learning. The generated Bayesian Networks will be used for inference. Using bnlearn package to learn a Bayesian network can be split into two problems:\n",
    "\n",
    "- Structure learning: Given a set of data samples, estimate a DAG that captures the dependencies between the variables.\n",
    "\n",
    "- Parameter learning: Given a set of data samples and a DAG that captures the dependencies between the variables, estimate the (conditional) probability distributions of the individual variables."
   ]
  },
  {
   "cell_type": "markdown",
   "metadata": {},
   "source": [
    "### Example: Building Bayesian Network and making inferences with Sprinkler data set"
   ]
  },
  {
   "cell_type": "code",
   "execution_count": 40,
   "metadata": {},
   "outputs": [
    {
     "name": "stdout",
     "output_type": "stream",
     "text": [
      "[bnlearn] >Import dataset..\n"
     ]
    },
    {
     "data": {
      "text/html": [
       "<div>\n",
       "<style scoped>\n",
       "    .dataframe tbody tr th:only-of-type {\n",
       "        vertical-align: middle;\n",
       "    }\n",
       "\n",
       "    .dataframe tbody tr th {\n",
       "        vertical-align: top;\n",
       "    }\n",
       "\n",
       "    .dataframe thead th {\n",
       "        text-align: right;\n",
       "    }\n",
       "</style>\n",
       "<table border=\"1\" class=\"dataframe\">\n",
       "  <thead>\n",
       "    <tr style=\"text-align: right;\">\n",
       "      <th></th>\n",
       "      <th>Cloudy</th>\n",
       "      <th>Sprinkler</th>\n",
       "      <th>Rain</th>\n",
       "      <th>Wet_Grass</th>\n",
       "    </tr>\n",
       "  </thead>\n",
       "  <tbody>\n",
       "    <tr>\n",
       "      <th>0</th>\n",
       "      <td>0</td>\n",
       "      <td>0</td>\n",
       "      <td>0</td>\n",
       "      <td>0</td>\n",
       "    </tr>\n",
       "    <tr>\n",
       "      <th>1</th>\n",
       "      <td>1</td>\n",
       "      <td>0</td>\n",
       "      <td>1</td>\n",
       "      <td>1</td>\n",
       "    </tr>\n",
       "    <tr>\n",
       "      <th>2</th>\n",
       "      <td>0</td>\n",
       "      <td>1</td>\n",
       "      <td>0</td>\n",
       "      <td>1</td>\n",
       "    </tr>\n",
       "    <tr>\n",
       "      <th>3</th>\n",
       "      <td>1</td>\n",
       "      <td>1</td>\n",
       "      <td>1</td>\n",
       "      <td>1</td>\n",
       "    </tr>\n",
       "    <tr>\n",
       "      <th>4</th>\n",
       "      <td>1</td>\n",
       "      <td>1</td>\n",
       "      <td>1</td>\n",
       "      <td>1</td>\n",
       "    </tr>\n",
       "    <tr>\n",
       "      <th>...</th>\n",
       "      <td>...</td>\n",
       "      <td>...</td>\n",
       "      <td>...</td>\n",
       "      <td>...</td>\n",
       "    </tr>\n",
       "    <tr>\n",
       "      <th>995</th>\n",
       "      <td>1</td>\n",
       "      <td>0</td>\n",
       "      <td>1</td>\n",
       "      <td>1</td>\n",
       "    </tr>\n",
       "    <tr>\n",
       "      <th>996</th>\n",
       "      <td>1</td>\n",
       "      <td>0</td>\n",
       "      <td>1</td>\n",
       "      <td>1</td>\n",
       "    </tr>\n",
       "    <tr>\n",
       "      <th>997</th>\n",
       "      <td>1</td>\n",
       "      <td>0</td>\n",
       "      <td>1</td>\n",
       "      <td>1</td>\n",
       "    </tr>\n",
       "    <tr>\n",
       "      <th>998</th>\n",
       "      <td>0</td>\n",
       "      <td>0</td>\n",
       "      <td>0</td>\n",
       "      <td>0</td>\n",
       "    </tr>\n",
       "    <tr>\n",
       "      <th>999</th>\n",
       "      <td>0</td>\n",
       "      <td>1</td>\n",
       "      <td>1</td>\n",
       "      <td>1</td>\n",
       "    </tr>\n",
       "  </tbody>\n",
       "</table>\n",
       "<p>1000 rows × 4 columns</p>\n",
       "</div>"
      ],
      "text/plain": [
       "     Cloudy  Sprinkler  Rain  Wet_Grass\n",
       "0         0          0     0          0\n",
       "1         1          0     1          1\n",
       "2         0          1     0          1\n",
       "3         1          1     1          1\n",
       "4         1          1     1          1\n",
       "..      ...        ...   ...        ...\n",
       "995       1          0     1          1\n",
       "996       1          0     1          1\n",
       "997       1          0     1          1\n",
       "998       0          0     0          0\n",
       "999       0          1     1          1\n",
       "\n",
       "[1000 rows x 4 columns]"
      ]
     },
     "execution_count": 40,
     "metadata": {},
     "output_type": "execute_result"
    }
   ],
   "source": [
    "import bnlearn as bn\n",
    "\n",
    "# load the Sprinkler dataset\n",
    "df = bn.import_example()\n",
    "\n",
    "df"
   ]
  },
  {
   "cell_type": "code",
   "execution_count": 41,
   "metadata": {
    "scrolled": true
   },
   "outputs": [
    {
     "name": "stderr",
     "output_type": "stream",
     "text": [
      "\r",
      "Finding Elimination Order: : 100%|██████████| 6/6 [00:43<00:00,  7.24s/it]"
     ]
    },
    {
     "name": "stdout",
     "output_type": "stream",
     "text": [
      "[bnlearn] >Computing best DAG using [hc]\n",
      "[bnlearn] >Set scoring type at [bic]\n",
      "[bnlearn] >Plot based on BayesianModel\n"
     ]
    },
    {
     "name": "stderr",
     "output_type": "stream",
     "text": [
      "\n"
     ]
    },
    {
     "data": {
      "image/png": "[encoded data removed]",
      "text/plain": [
       "<Figure size 1080x576 with 1 Axes>"
      ]
     },
     "metadata": {},
     "output_type": "display_data"
    }
   ],
   "source": [
    "# Structure Learning: obtaining the network structure\n",
    "\n",
    "model = bn.structure_learning.fit(df)\n",
    "\n",
    "G = bn.plot(model)"
   ]
  },
  {
   "cell_type": "code",
   "execution_count": 42,
   "metadata": {
    "scrolled": true
   },
   "outputs": [
    {
     "name": "stdout",
     "output_type": "stream",
     "text": [
      "[BNLEARN][PARAMETER LEARNING] Computing parameters using [bayes]\n",
      "[bnlearn] >Conversion of adjmat to BayesianModel.\n",
      "CPD of Cloudy:\n",
      "+-----------+--------------------+--------------------+\n",
      "| Sprinkler | Sprinkler(0)       | Sprinkler(1)       |\n",
      "+-----------+--------------------+--------------------+\n",
      "| Cloudy(0) | 0.3988245172124265 | 0.6341161928306551 |\n",
      "+-----------+--------------------+--------------------+\n",
      "| Cloudy(1) | 0.6011754827875735 | 0.3658838071693449 |\n",
      "+-----------+--------------------+--------------------+\n",
      "CPD of Rain:\n",
      "+---------+--------------------+---------------------+\n",
      "| Cloudy  | Cloudy(0)          | Cloudy(1)           |\n",
      "+---------+--------------------+---------------------+\n",
      "| Rain(0) | 0.6518218623481782 | 0.33695652173913043 |\n",
      "+---------+--------------------+---------------------+\n",
      "| Rain(1) | 0.3481781376518219 | 0.6630434782608695  |\n",
      "+---------+--------------------+---------------------+\n",
      "CPD of Sprinkler:\n",
      "+--------------+--------+\n",
      "| Sprinkler(0) | 0.5955 |\n",
      "+--------------+--------+\n",
      "| Sprinkler(1) | 0.4045 |\n",
      "+--------------+--------+\n",
      "CPD of Wet_Grass:\n",
      "+--------------+--------------------+---------------------+---------------------+---------------------+\n",
      "| Rain         | Rain(0)            | Rain(0)             | Rain(1)             | Rain(1)             |\n",
      "+--------------+--------------------+---------------------+---------------------+---------------------+\n",
      "| Sprinkler    | Sprinkler(0)       | Sprinkler(1)        | Sprinkler(0)        | Sprinkler(1)        |\n",
      "+--------------+--------------------+---------------------+---------------------+---------------------+\n",
      "| Wet_Grass(0) | 0.7553816046966731 | 0.33755274261603374 | 0.25588235294117645 | 0.37910447761194027 |\n",
      "+--------------+--------------------+---------------------+---------------------+---------------------+\n",
      "| Wet_Grass(1) | 0.2446183953033268 | 0.6624472573839663  | 0.7441176470588236  | 0.6208955223880597  |\n",
      "+--------------+--------------------+---------------------+---------------------+---------------------+\n",
      "[bnlearn] >Plot based on BayesianModel\n"
     ]
    },
    {
     "data": {
      "image/png": "[encoded data removed]",
      "text/plain": [
       "<Figure size 1080x576 with 1 Axes>"
      ]
     },
     "metadata": {},
     "output_type": "display_data"
    }
   ],
   "source": [
    "# learn the parameters of the DAG using the df\n",
    "model_update = bn.parameter_learning.fit(model, df, methodtype=\"bayes\")\n",
    "\n",
    "# Make plot\n",
    "G = bn.plot(model_update)"
   ]
  },
  {
   "cell_type": "code",
   "execution_count": 43,
   "metadata": {},
   "outputs": [
    {
     "name": "stderr",
     "output_type": "stream",
     "text": [
      "Finding Elimination Order: : : 0it [00:00, ?it/s]\n",
      "0it [00:00, ?it/s]\u001b[A\n",
      "\n",
      "  0%|          | 0/2 [00:00<?, ?it/s]"
     ]
    },
    {
     "name": "stdout",
     "output_type": "stream",
     "text": [
      "[bnlearn] >Variable Elimination..\n",
      "+--------------+------------------+\n",
      "| Wet_Grass    |   phi(Wet_Grass) |\n",
      "+==============+==================+\n",
      "| Wet_Grass(0) |           0.2559 |\n",
      "+--------------+------------------+\n",
      "| Wet_Grass(1) |           0.7441 |\n",
      "+--------------+------------------+\n",
      "[bnlearn] >Variable Elimination..\n"
     ]
    },
    {
     "name": "stderr",
     "output_type": "stream",
     "text": [
      "\u001b[A\n",
      "Finding Elimination Order: :   0%|          | 0/2 [00:00<?, ?it/s]\u001b[A\n",
      "\n",
      "  0%|          | 0/2 [00:00<?, ?it/s]\u001b[A\u001b[A\n",
      "\n",
      "Eliminating: Cloudy:   0%|          | 0/2 [00:00<?, ?it/s]\u001b[A\u001b[A\n",
      "\n",
      "Eliminating: Sprinkler: 100%|██████████| 2/2 [00:00<00:00, 235.25it/s]"
     ]
    },
    {
     "name": "stdout",
     "output_type": "stream",
     "text": [
      "+--------------+------------------+\n",
      "| Wet_Grass    |   phi(Wet_Grass) |\n",
      "+==============+==================+\n",
      "| Wet_Grass(0) |           0.3014 |\n",
      "+--------------+------------------+\n",
      "| Wet_Grass(1) |           0.6986 |\n",
      "+--------------+------------------+\n"
     ]
    },
    {
     "name": "stderr",
     "output_type": "stream",
     "text": [
      "\n"
     ]
    }
   ],
   "source": [
    "# performing inference\n",
    "q_1 = bn.inference.fit(model_update, variables=['Wet_Grass'], evidence={'Cloudy':1,'Sprinkler':0, 'Rain':1})\n",
    "q_2 = bn.inference.fit(model_update, variables=['Wet_Grass'], evidence={'Rain':1})"
   ]
  },
  {
   "cell_type": "markdown",
   "metadata": {},
   "source": [
    "<div class='alert alert-block alert-success' style=\"font-weight:bolder\">\n",
    "\n",
    "### Task 1\n",
    "\n",
    "Learn a Bayesian Network of the artificial smart grid data set. Construct the network make inference for the following:\n",
    "\n",
    "- P(Outage_Duration=Less_than_1H | Time=Morning, Demand_Factor=Medium)\n",
    "- P(Demand_Factor=High | Overload=Yes, Weather=Cold)\n",
    "- P(Number_of_Customers=Low | Demand_Factor=High)\n"
   ]
  },
  {
   "cell_type": "code",
   "execution_count": 44,
   "metadata": {
    "scrolled": false
   },
   "outputs": [
    {
     "name": "stderr",
     "output_type": "stream",
     "text": [
      "Finding Elimination Order: : : 0it [00:00, ?it/s]\n",
      "Finding Elimination Order: : 100%|██████████| 2/2 [00:00<00:00, 62.50it/s]\n"
     ]
    },
    {
     "name": "stdout",
     "output_type": "stream",
     "text": [
      "Index(['Season', 'Outage_Duration', 'Number_of_Customers', 'Overload',\n",
      "       'Weather', 'Time', 'Demand_Factor', 'Day'],\n",
      "      dtype='object')\n",
      "[bnlearn] >Computing best DAG using [hc]\n",
      "[bnlearn] >Set scoring type at [bic]\n",
      "[bnlearn] >Plot based on BayesianModel\n"
     ]
    },
    {
     "data": {
      "image/png": "[encoded data removed]",
      "text/plain": [
       "<Figure size 1080x576 with 1 Axes>"
      ]
     },
     "metadata": {},
     "output_type": "display_data"
    },
    {
     "data": {
      "text/html": [
       "<div>\n",
       "<style scoped>\n",
       "    .dataframe tbody tr th:only-of-type {\n",
       "        vertical-align: middle;\n",
       "    }\n",
       "\n",
       "    .dataframe tbody tr th {\n",
       "        vertical-align: top;\n",
       "    }\n",
       "\n",
       "    .dataframe thead th {\n",
       "        text-align: right;\n",
       "    }\n",
       "</style>\n",
       "<table border=\"1\" class=\"dataframe\">\n",
       "  <thead>\n",
       "    <tr style=\"text-align: right;\">\n",
       "      <th></th>\n",
       "      <th>Season</th>\n",
       "      <th>Outage_Duration</th>\n",
       "      <th>Number_of_Customers</th>\n",
       "      <th>Overload</th>\n",
       "      <th>Weather</th>\n",
       "      <th>Time</th>\n",
       "      <th>Demand_Factor</th>\n",
       "      <th>Day</th>\n",
       "    </tr>\n",
       "  </thead>\n",
       "  <tbody>\n",
       "    <tr>\n",
       "      <th>0</th>\n",
       "      <td>Autumn</td>\n",
       "      <td>Less_than_1H</td>\n",
       "      <td>Low</td>\n",
       "      <td>Yes</td>\n",
       "      <td>Cold</td>\n",
       "      <td>Morning</td>\n",
       "      <td>Low</td>\n",
       "      <td>Weekdays</td>\n",
       "    </tr>\n",
       "    <tr>\n",
       "      <th>1</th>\n",
       "      <td>Winter</td>\n",
       "      <td>Less_than_1H</td>\n",
       "      <td>Low</td>\n",
       "      <td>No</td>\n",
       "      <td>Cold</td>\n",
       "      <td>Evening</td>\n",
       "      <td>Low</td>\n",
       "      <td>Weekdays</td>\n",
       "    </tr>\n",
       "    <tr>\n",
       "      <th>2</th>\n",
       "      <td>Spring</td>\n",
       "      <td>More_than_1H</td>\n",
       "      <td>Low</td>\n",
       "      <td>No</td>\n",
       "      <td>Cold</td>\n",
       "      <td>Evening</td>\n",
       "      <td>Low</td>\n",
       "      <td>Weekdays</td>\n",
       "    </tr>\n",
       "    <tr>\n",
       "      <th>3</th>\n",
       "      <td>Winter</td>\n",
       "      <td>Less_than_1H</td>\n",
       "      <td>High</td>\n",
       "      <td>No</td>\n",
       "      <td>Warm</td>\n",
       "      <td>Morning</td>\n",
       "      <td>Low</td>\n",
       "      <td>Weekdays</td>\n",
       "    </tr>\n",
       "    <tr>\n",
       "      <th>4</th>\n",
       "      <td>Spring</td>\n",
       "      <td>More_than_1H</td>\n",
       "      <td>Low</td>\n",
       "      <td>No</td>\n",
       "      <td>Cold</td>\n",
       "      <td>Morning</td>\n",
       "      <td>Low</td>\n",
       "      <td>Weekend</td>\n",
       "    </tr>\n",
       "    <tr>\n",
       "      <th>...</th>\n",
       "      <td>...</td>\n",
       "      <td>...</td>\n",
       "      <td>...</td>\n",
       "      <td>...</td>\n",
       "      <td>...</td>\n",
       "      <td>...</td>\n",
       "      <td>...</td>\n",
       "      <td>...</td>\n",
       "    </tr>\n",
       "    <tr>\n",
       "      <th>695</th>\n",
       "      <td>Autumn</td>\n",
       "      <td>Less_than_1H</td>\n",
       "      <td>Low</td>\n",
       "      <td>Yes</td>\n",
       "      <td>Cold</td>\n",
       "      <td>Afternoon</td>\n",
       "      <td>High</td>\n",
       "      <td>Weekend</td>\n",
       "    </tr>\n",
       "    <tr>\n",
       "      <th>696</th>\n",
       "      <td>Summer</td>\n",
       "      <td>More_than_1H</td>\n",
       "      <td>Low</td>\n",
       "      <td>No</td>\n",
       "      <td>Warm</td>\n",
       "      <td>Evening</td>\n",
       "      <td>Medium</td>\n",
       "      <td>Weekend</td>\n",
       "    </tr>\n",
       "    <tr>\n",
       "      <th>697</th>\n",
       "      <td>Winter</td>\n",
       "      <td>Less_than_1H</td>\n",
       "      <td>High</td>\n",
       "      <td>Yes</td>\n",
       "      <td>Cold</td>\n",
       "      <td>Evening</td>\n",
       "      <td>Medium</td>\n",
       "      <td>Weekdays</td>\n",
       "    </tr>\n",
       "    <tr>\n",
       "      <th>698</th>\n",
       "      <td>Autumn</td>\n",
       "      <td>More_than_1H</td>\n",
       "      <td>Low</td>\n",
       "      <td>No</td>\n",
       "      <td>Cold</td>\n",
       "      <td>Afternoon</td>\n",
       "      <td>High</td>\n",
       "      <td>Weekend</td>\n",
       "    </tr>\n",
       "    <tr>\n",
       "      <th>699</th>\n",
       "      <td>Spring</td>\n",
       "      <td>Less_than_1H</td>\n",
       "      <td>High</td>\n",
       "      <td>No</td>\n",
       "      <td>Warm</td>\n",
       "      <td>Morning</td>\n",
       "      <td>Low</td>\n",
       "      <td>Weekdays</td>\n",
       "    </tr>\n",
       "  </tbody>\n",
       "</table>\n",
       "<p>700 rows × 8 columns</p>\n",
       "</div>"
      ],
      "text/plain": [
       "     Season Outage_Duration Number_of_Customers Overload Weather       Time  \\\n",
       "0    Autumn    Less_than_1H                 Low      Yes    Cold    Morning   \n",
       "1    Winter    Less_than_1H                 Low       No    Cold    Evening   \n",
       "2    Spring    More_than_1H                 Low       No    Cold    Evening   \n",
       "3    Winter    Less_than_1H                High       No    Warm    Morning   \n",
       "4    Spring    More_than_1H                 Low       No    Cold    Morning   \n",
       "..      ...             ...                 ...      ...     ...        ...   \n",
       "695  Autumn    Less_than_1H                 Low      Yes    Cold  Afternoon   \n",
       "696  Summer    More_than_1H                 Low       No    Warm    Evening   \n",
       "697  Winter    Less_than_1H                High      Yes    Cold    Evening   \n",
       "698  Autumn    More_than_1H                 Low       No    Cold  Afternoon   \n",
       "699  Spring    Less_than_1H                High       No    Warm    Morning   \n",
       "\n",
       "    Demand_Factor       Day  \n",
       "0             Low  Weekdays  \n",
       "1             Low  Weekdays  \n",
       "2             Low  Weekdays  \n",
       "3             Low  Weekdays  \n",
       "4             Low   Weekend  \n",
       "..            ...       ...  \n",
       "695          High   Weekend  \n",
       "696        Medium   Weekend  \n",
       "697        Medium  Weekdays  \n",
       "698          High   Weekend  \n",
       "699           Low  Weekdays  \n",
       "\n",
       "[700 rows x 8 columns]"
      ]
     },
     "execution_count": 44,
     "metadata": {},
     "output_type": "execute_result"
    }
   ],
   "source": [
    "import pandas as pd\n",
    "\n",
    "file = \"./smart_grid.xlsx\"\n",
    "\n",
    "df_sg = data = pd.read_excel(file)\n",
    "\n",
    "print(df_sg.columns)\n",
    "\n",
    "model_df_sg = bn.structure_learning.fit(df_sg)\n",
    "G_dg = bn.plot(model_df_sg)\n",
    "df_sg"
   ]
  },
  {
   "cell_type": "code",
   "execution_count": 45,
   "metadata": {},
   "outputs": [
    {
     "name": "stdout",
     "output_type": "stream",
     "text": [
      "[BNLEARN][PARAMETER LEARNING] Computing parameters using [bayes]"
     ]
    },
    {
     "name": "stderr",
     "output_type": "stream",
     "text": [
      "Finding Elimination Order: :   0%|          | 0/5 [00:00<?, ?it/s]\n",
      "  0%|          | 0/5 [00:00<?, ?it/s]\u001b[A\n",
      "Eliminating: Number_of_Customers:   0%|          | 0/5 [00:00<?, ?it/s]\u001b[A\n",
      "Eliminating: Season:   0%|          | 0/5 [00:00<?, ?it/s]             \u001b[A\n",
      "Eliminating: Day:   0%|          | 0/5 [00:00<?, ?it/s]   \u001b[A\n",
      "Eliminating: Weather:   0%|          | 0/5 [00:00<?, ?it/s]\u001b[A\n",
      "Eliminating: Overload: 100%|██████████| 5/5 [00:00<00:00, 285.68it/s]"
     ]
    },
    {
     "name": "stdout",
     "output_type": "stream",
     "text": [
      "\n",
      "[bnlearn] >Conversion of adjmat to BayesianModel.\n",
      "CPD of Outage_Duration:\n",
      "+-------------------------------+--------------------+---------------------+\n",
      "| Overload                      | Overload(No)       | Overload(Yes)       |\n",
      "+-------------------------------+--------------------+---------------------+\n",
      "| Outage_Duration(Less_than_1H) | 0.3964248159831756 | 0.5874499332443258  |\n",
      "+-------------------------------+--------------------+---------------------+\n",
      "| Outage_Duration(More_than_1H) | 0.6035751840168244 | 0.41255006675567424 |\n",
      "+-------------------------------+--------------------+---------------------+\n",
      "CPD of Weather:\n",
      "+-----------------+-------------------------------+-------------------------------+\n",
      "| Outage_Duration | Outage_Duration(Less_than_1H) | Outage_Duration(More_than_1H) |\n",
      "+-----------------+-------------------------------+-------------------------------+\n",
      "| Weather( Cold)  | 0.5067319461444308            | 0.579841449603624             |\n",
      "+-----------------+-------------------------------+-------------------------------+\n",
      "| Weather( Warm)  | 0.49326805385556916           | 0.420158550396376             |\n",
      "+-----------------+-------------------------------+-------------------------------+\n",
      "CPD of Number_of_Customers:\n",
      "+---------------------------+----------+\n",
      "| Number_of_Customers(High) | 0.461176 |\n",
      "+---------------------------+----------+\n",
      "| Number_of_Customers(Low)  | 0.538824 |\n",
      "+---------------------------+----------+\n",
      "CPD of Overload:\n",
      "+---------------------+---------------------------+--------------------------+---------------------------+--------------------------+---------------------------+--------------------------+\n",
      "| Demand_Factor       | Demand_Factor(High)       | Demand_Factor(High)      | Demand_Factor(Low)        | Demand_Factor(Low)       | Demand_Factor(Medium)     | Demand_Factor(Medium)    |\n",
      "+---------------------+---------------------------+--------------------------+---------------------------+--------------------------+---------------------------+--------------------------+\n",
      "| Number_of_Customers | Number_of_Customers(High) | Number_of_Customers(Low) | Number_of_Customers(High) | Number_of_Customers(Low) | Number_of_Customers(High) | Number_of_Customers(Low) |\n",
      "+---------------------+---------------------------+--------------------------+---------------------------+--------------------------+---------------------------+--------------------------+\n",
      "| Overload(No)        | 0.3557692307692308        | 0.5291073738680466       | 0.5403659849300323        | 0.7356418918918919       | 0.44604316546762596       | 0.6346396965865992       |\n",
      "+---------------------+---------------------------+--------------------------+---------------------------+--------------------------+---------------------------+--------------------------+\n",
      "| Overload(Yes)       | 0.6442307692307693        | 0.4708926261319535       | 0.4596340150699677        | 0.2643581081081081       | 0.5539568345323741        | 0.3653603034134008       |\n",
      "+---------------------+---------------------------+--------------------------+---------------------------+--------------------------+---------------------------+--------------------------+\n",
      "CPD of Season:\n",
      "+----------------+---------------------+---------------------+\n",
      "| Weather        | Weather( Cold)      | Weather( Warm)      |\n",
      "+----------------+---------------------+---------------------+\n",
      "| Season(Autumn) | 0.26673866090712745 | 0.23772609819121446 |\n",
      "+----------------+---------------------+---------------------+\n",
      "| Season(Spring) | 0.24622030237580994 | 0.2467700258397933  |\n",
      "+----------------+---------------------+---------------------+\n",
      "| Season(Summer) | 0.17818574514038876 | 0.3372093023255814  |\n",
      "+----------------+---------------------+---------------------+\n",
      "| Season(Winter) | 0.30885529157667385 | 0.17829457364341086 |\n",
      "+----------------+---------------------+---------------------+\n",
      "CPD of Time:\n",
      "+-----------------+----------+\n",
      "| Time(Afternoon) | 0.267647 |\n",
      "+-----------------+----------+\n",
      "| Time(Evening)   | 0.267647 |\n",
      "+-----------------+----------+\n",
      "| Time(Morning)   | 0.277647 |\n",
      "+-----------------+----------+\n",
      "| Time(Night)     | 0.187059 |\n",
      "+-----------------+----------+\n",
      "CPD of Demand_Factor:\n",
      "+-----------------------+---------------------+---------------------+--------------------+---------------------+---------------------+---------------------+---------------------+---------------------+\n",
      "| Day                   | Day(Weekdays)       | Day(Weekdays)       | Day(Weekdays)      | Day(Weekdays)       | Day(Weekend)        | Day(Weekend)        | Day(Weekend)        | Day(Weekend)        |\n",
      "+-----------------------+---------------------+---------------------+--------------------+---------------------+---------------------+---------------------+---------------------+---------------------+\n",
      "| Time                  | Time(Afternoon)     | Time(Evening)       | Time(Morning)      | Time(Night)         | Time(Afternoon)     | Time(Evening)       | Time(Morning)       | Time(Night)         |\n",
      "+-----------------------+---------------------+---------------------+--------------------+---------------------+---------------------+---------------------+---------------------+---------------------+\n",
      "| Demand_Factor(High)   | 0.228494623655914   | 0.2761904761904762  | 0.2094508301404853 | 0.2509803921568628  | 0.3896940418679549  | 0.5126984126984128  | 0.22590837282780413 | 0.2882882882882883  |\n",
      "+-----------------------+---------------------+---------------------+--------------------+---------------------+---------------------+---------------------+---------------------+---------------------+\n",
      "| Demand_Factor(Low)    | 0.5026881720430108  | 0.41496598639455784 | 0.5810983397190294 | 0.49215686274509807 | 0.2592592592592593  | 0.226984126984127   | 0.42022116903633494 | 0.35585585585585583 |\n",
      "+-----------------------+---------------------+---------------------+--------------------+---------------------+---------------------+---------------------+---------------------+---------------------+\n",
      "| Demand_Factor(Medium) | 0.26881720430107525 | 0.308843537414966   | 0.2094508301404853 | 0.25686274509803925 | 0.35104669887278583 | 0.26031746031746034 | 0.353870458135861   | 0.35585585585585583 |\n",
      "+-----------------------+---------------------+---------------------+--------------------+---------------------+---------------------+---------------------+---------------------+---------------------+\n",
      "CPD of Day:\n",
      "+---------------+----------+\n",
      "| Day(Weekdays) | 0.543529 |\n",
      "+---------------+----------+\n",
      "| Day(Weekend)  | 0.456471 |\n",
      "+---------------+----------+\n",
      "[bnlearn] >Variable Elimination..\n",
      "+-------------------------------+------------------------+\n",
      "| Outage_Duration               |   phi(Outage_Duration) |\n",
      "+===============================+========================+\n",
      "| Outage_Duration(Less_than_1H) |                 0.4828 |\n",
      "+-------------------------------+------------------------+\n",
      "| Outage_Duration(More_than_1H) |                 0.5172 |\n",
      "+-------------------------------+------------------------+\n",
      "\n",
      "P(Outage_Duration=Less_than_1H | Time=Morning, Demand_Factor=Medium): 0.48283246536534025\n"
     ]
    },
    {
     "name": "stderr",
     "output_type": "stream",
     "text": [
      "\n"
     ]
    }
   ],
   "source": [
    "model_Outage_Duration = bn.parameter_learning.fit(model_df_sg, df_sg, methodtype=\"bayes\")\n",
    "DF_1 = bn.inference.fit(model_Outage_Duration, variables=['Outage_Duration'], evidence={'Time':'Morning','Demand_Factor':'Medium'})\n",
    "print('\\nP(Outage_Duration=Less_than_1H | Time=Morning, Demand_Factor=Medium):', DF_1.values[0])\n"
   ]
  },
  {
   "cell_type": "code",
   "execution_count": 46,
   "metadata": {},
   "outputs": [
    {
     "name": "stderr",
     "output_type": "stream",
     "text": [
      "Finding Elimination Order: : 100%|██████████| 5/5 [00:00<00:00, 58.82it/s]\n",
      "Finding Elimination Order: :   0%|          | 0/5 [00:00<?, ?it/s]\n",
      "  0%|          | 0/5 [00:00<?, ?it/s]\u001b[A\n",
      "Eliminating: Number_of_Customers:   0%|          | 0/5 [00:00<?, ?it/s]\u001b[A\n",
      "Eliminating: Season:   0%|          | 0/5 [00:00<?, ?it/s]             \u001b[A\n",
      "Eliminating: Day:   0%|          | 0/5 [00:00<?, ?it/s]   \u001b[A\n",
      "Eliminating: Outage_Duration:   0%|          | 0/5 [00:00<?, ?it/s]\u001b[A\n",
      "Eliminating: Time: 100%|██████████| 5/5 [00:00<00:00, 238.25it/s]  \u001b[A"
     ]
    },
    {
     "name": "stdout",
     "output_type": "stream",
     "text": [
      "[BNLEARN][PARAMETER LEARNING] Computing parameters using [bayes]\n",
      "[bnlearn] >Conversion of adjmat to BayesianModel.\n",
      "CPD of Outage_Duration:\n",
      "+-------------------------------+--------------------+---------------------+\n",
      "| Overload                      | Overload(No)       | Overload(Yes)       |\n",
      "+-------------------------------+--------------------+---------------------+\n",
      "| Outage_Duration(Less_than_1H) | 0.3964248159831756 | 0.5874499332443258  |\n",
      "+-------------------------------+--------------------+---------------------+\n",
      "| Outage_Duration(More_than_1H) | 0.6035751840168244 | 0.41255006675567424 |\n",
      "+-------------------------------+--------------------+---------------------+\n",
      "CPD of Weather:\n",
      "+-----------------+-------------------------------+-------------------------------+\n",
      "| Outage_Duration | Outage_Duration(Less_than_1H) | Outage_Duration(More_than_1H) |\n",
      "+-----------------+-------------------------------+-------------------------------+\n",
      "| Weather( Cold)  | 0.5067319461444308            | 0.579841449603624             |\n",
      "+-----------------+-------------------------------+-------------------------------+\n",
      "| Weather( Warm)  | 0.49326805385556916           | 0.420158550396376             |\n",
      "+-----------------+-------------------------------+-------------------------------+\n",
      "CPD of Number_of_Customers:\n",
      "+---------------------------+----------+\n",
      "| Number_of_Customers(High) | 0.461176 |\n",
      "+---------------------------+----------+\n",
      "| Number_of_Customers(Low)  | 0.538824 |\n",
      "+---------------------------+----------+\n",
      "CPD of Overload:\n",
      "+---------------------+---------------------------+--------------------------+---------------------------+--------------------------+---------------------------+--------------------------+\n",
      "| Demand_Factor       | Demand_Factor(High)       | Demand_Factor(High)      | Demand_Factor(Low)        | Demand_Factor(Low)       | Demand_Factor(Medium)     | Demand_Factor(Medium)    |\n",
      "+---------------------+---------------------------+--------------------------+---------------------------+--------------------------+---------------------------+--------------------------+\n",
      "| Number_of_Customers | Number_of_Customers(High) | Number_of_Customers(Low) | Number_of_Customers(High) | Number_of_Customers(Low) | Number_of_Customers(High) | Number_of_Customers(Low) |\n",
      "+---------------------+---------------------------+--------------------------+---------------------------+--------------------------+---------------------------+--------------------------+\n",
      "| Overload(No)        | 0.3557692307692308        | 0.5291073738680466       | 0.5403659849300323        | 0.7356418918918919       | 0.44604316546762596       | 0.6346396965865992       |\n",
      "+---------------------+---------------------------+--------------------------+---------------------------+--------------------------+---------------------------+--------------------------+\n",
      "| Overload(Yes)       | 0.6442307692307693        | 0.4708926261319535       | 0.4596340150699677        | 0.2643581081081081       | 0.5539568345323741        | 0.3653603034134008       |\n",
      "+---------------------+---------------------------+--------------------------+---------------------------+--------------------------+---------------------------+--------------------------+\n",
      "CPD of Season:\n",
      "+----------------+---------------------+---------------------+\n",
      "| Weather        | Weather( Cold)      | Weather( Warm)      |\n",
      "+----------------+---------------------+---------------------+\n",
      "| Season(Autumn) | 0.26673866090712745 | 0.23772609819121446 |\n",
      "+----------------+---------------------+---------------------+\n",
      "| Season(Spring) | 0.24622030237580994 | 0.2467700258397933  |\n",
      "+----------------+---------------------+---------------------+\n",
      "| Season(Summer) | 0.17818574514038876 | 0.3372093023255814  |\n",
      "+----------------+---------------------+---------------------+\n",
      "| Season(Winter) | 0.30885529157667385 | 0.17829457364341086 |\n",
      "+----------------+---------------------+---------------------+\n",
      "CPD of Time:\n",
      "+-----------------+----------+\n",
      "| Time(Afternoon) | 0.267647 |\n",
      "+-----------------+----------+\n",
      "| Time(Evening)   | 0.267647 |\n",
      "+-----------------+----------+\n",
      "| Time(Morning)   | 0.277647 |\n",
      "+-----------------+----------+\n",
      "| Time(Night)     | 0.187059 |\n",
      "+-----------------+----------+\n",
      "CPD of Demand_Factor:\n",
      "+-----------------------+---------------------+---------------------+--------------------+---------------------+---------------------+---------------------+---------------------+---------------------+\n",
      "| Day                   | Day(Weekdays)       | Day(Weekdays)       | Day(Weekdays)      | Day(Weekdays)       | Day(Weekend)        | Day(Weekend)        | Day(Weekend)        | Day(Weekend)        |\n",
      "+-----------------------+---------------------+---------------------+--------------------+---------------------+---------------------+---------------------+---------------------+---------------------+\n",
      "| Time                  | Time(Afternoon)     | Time(Evening)       | Time(Morning)      | Time(Night)         | Time(Afternoon)     | Time(Evening)       | Time(Morning)       | Time(Night)         |\n",
      "+-----------------------+---------------------+---------------------+--------------------+---------------------+---------------------+---------------------+---------------------+---------------------+\n",
      "| Demand_Factor(High)   | 0.228494623655914   | 0.2761904761904762  | 0.2094508301404853 | 0.2509803921568628  | 0.3896940418679549  | 0.5126984126984128  | 0.22590837282780413 | 0.2882882882882883  |\n",
      "+-----------------------+---------------------+---------------------+--------------------+---------------------+---------------------+---------------------+---------------------+---------------------+\n",
      "| Demand_Factor(Low)    | 0.5026881720430108  | 0.41496598639455784 | 0.5810983397190294 | 0.49215686274509807 | 0.2592592592592593  | 0.226984126984127   | 0.42022116903633494 | 0.35585585585585583 |\n",
      "+-----------------------+---------------------+---------------------+--------------------+---------------------+---------------------+---------------------+---------------------+---------------------+\n",
      "| Demand_Factor(Medium) | 0.26881720430107525 | 0.308843537414966   | 0.2094508301404853 | 0.25686274509803925 | 0.35104669887278583 | 0.26031746031746034 | 0.353870458135861   | 0.35585585585585583 |\n",
      "+-----------------------+---------------------+---------------------+--------------------+---------------------+---------------------+---------------------+---------------------+---------------------+\n",
      "CPD of Day:\n",
      "+---------------+----------+\n",
      "| Day(Weekdays) | 0.543529 |\n",
      "+---------------+----------+\n",
      "| Day(Weekend)  | 0.456471 |\n",
      "+---------------+----------+\n",
      "[bnlearn] >Variable Elimination..\n",
      "+-----------------------+----------------------+\n",
      "| Demand_Factor         |   phi(Demand_Factor) |\n",
      "+=======================+======================+\n",
      "| Demand_Factor(High)   |               0.3675 |\n",
      "+-----------------------+----------------------+\n",
      "| Demand_Factor(Low)    |               0.3331 |\n",
      "+-----------------------+----------------------+\n",
      "| Demand_Factor(Medium) |               0.2994 |\n",
      "+-----------------------+----------------------+\n",
      "\n",
      "P(Demand_Factor=High | Overload=Yes, Weather=Cold): 0.36749444626689176\n"
     ]
    },
    {
     "name": "stderr",
     "output_type": "stream",
     "text": [
      "\n"
     ]
    }
   ],
   "source": [
    "model_Demand_Fact = bn.parameter_learning.fit(model_df_sg, df_sg, methodtype=\"bayes\")\n",
    "DF_2 = bn.inference.fit(model_Demand_Fact, variables=['Demand_Factor'], evidence={'Overload':'Yes','Weather':' Cold'})\n",
    "print('\\nP(Demand_Factor=High | Overload=Yes, Weather=Cold):',DF_2.values[0])"
   ]
  },
  {
   "cell_type": "code",
   "execution_count": 47,
   "metadata": {},
   "outputs": [
    {
     "name": "stdout",
     "output_type": "stream",
     "text": [
      "[BNLEARN][PARAMETER LEARNING] Computing parameters using [bayes]\n",
      "[bnlearn] >Conversion of adjmat to BayesianModel.\n"
     ]
    },
    {
     "name": "stderr",
     "output_type": "stream",
     "text": [
      "Finding Elimination Order: : 100%|██████████| 5/5 [00:00<00:00, 47.62it/s]\n",
      "Finding Elimination Order: :   0%|          | 0/6 [00:00<?, ?it/s]\n",
      "  0%|          | 0/6 [00:00<?, ?it/s]\u001b[A\n",
      "Eliminating: Season:   0%|          | 0/6 [00:00<?, ?it/s]\u001b[A"
     ]
    },
    {
     "name": "stdout",
     "output_type": "stream",
     "text": [
      "CPD of Outage_Duration:\n",
      "+-------------------------------+--------------------+---------------------+\n",
      "| Overload                      | Overload(No)       | Overload(Yes)       |\n",
      "+-------------------------------+--------------------+---------------------+\n",
      "| Outage_Duration(Less_than_1H) | 0.3964248159831756 | 0.5874499332443258  |\n",
      "+-------------------------------+--------------------+---------------------+\n",
      "| Outage_Duration(More_than_1H) | 0.6035751840168244 | 0.41255006675567424 |\n",
      "+-------------------------------+--------------------+---------------------+\n",
      "CPD of Weather:\n",
      "+-----------------+-------------------------------+-------------------------------+\n",
      "| Outage_Duration | Outage_Duration(Less_than_1H) | Outage_Duration(More_than_1H) |\n",
      "+-----------------+-------------------------------+-------------------------------+\n",
      "| Weather( Cold)  | 0.5067319461444308            | 0.579841449603624             |\n",
      "+-----------------+-------------------------------+-------------------------------+\n",
      "| Weather( Warm)  | 0.49326805385556916           | 0.420158550396376             |\n",
      "+-----------------+-------------------------------+-------------------------------+\n",
      "CPD of Number_of_Customers:\n",
      "+---------------------------+----------+\n",
      "| Number_of_Customers(High) | 0.461176 |\n",
      "+---------------------------+----------+\n",
      "| Number_of_Customers(Low)  | 0.538824 |\n",
      "+---------------------------+----------+\n",
      "CPD of Overload:\n",
      "+---------------------+---------------------------+--------------------------+---------------------------+--------------------------+---------------------------+--------------------------+\n",
      "| Demand_Factor       | Demand_Factor(High)       | Demand_Factor(High)      | Demand_Factor(Low)        | Demand_Factor(Low)       | Demand_Factor(Medium)     | Demand_Factor(Medium)    |\n",
      "+---------------------+---------------------------+--------------------------+---------------------------+--------------------------+---------------------------+--------------------------+\n",
      "| Number_of_Customers | Number_of_Customers(High) | Number_of_Customers(Low) | Number_of_Customers(High) | Number_of_Customers(Low) | Number_of_Customers(High) | Number_of_Customers(Low) |\n",
      "+---------------------+---------------------------+--------------------------+---------------------------+--------------------------+---------------------------+--------------------------+\n",
      "| Overload(No)        | 0.3557692307692308        | 0.5291073738680466       | 0.5403659849300323        | 0.7356418918918919       | 0.44604316546762596       | 0.6346396965865992       |\n",
      "+---------------------+---------------------------+--------------------------+---------------------------+--------------------------+---------------------------+--------------------------+\n",
      "| Overload(Yes)       | 0.6442307692307693        | 0.4708926261319535       | 0.4596340150699677        | 0.2643581081081081       | 0.5539568345323741        | 0.3653603034134008       |\n",
      "+---------------------+---------------------------+--------------------------+---------------------------+--------------------------+---------------------------+--------------------------+\n",
      "CPD of Season:\n",
      "+----------------+---------------------+---------------------+\n",
      "| Weather        | Weather( Cold)      | Weather( Warm)      |\n",
      "+----------------+---------------------+---------------------+\n",
      "| Season(Autumn) | 0.26673866090712745 | 0.23772609819121446 |\n",
      "+----------------+---------------------+---------------------+\n",
      "| Season(Spring) | 0.24622030237580994 | 0.2467700258397933  |\n",
      "+----------------+---------------------+---------------------+\n",
      "| Season(Summer) | 0.17818574514038876 | 0.3372093023255814  |\n",
      "+----------------+---------------------+---------------------+\n",
      "| Season(Winter) | 0.30885529157667385 | 0.17829457364341086 |\n",
      "+----------------+---------------------+---------------------+\n",
      "CPD of Time:\n",
      "+-----------------+----------+\n",
      "| Time(Afternoon) | 0.267647 |\n",
      "+-----------------+----------+\n",
      "| Time(Evening)   | 0.267647 |\n",
      "+-----------------+----------+\n",
      "| Time(Morning)   | 0.277647 |\n",
      "+-----------------+----------+\n",
      "| Time(Night)     | 0.187059 |\n",
      "+-----------------+----------+\n",
      "CPD of Demand_Factor:\n",
      "+-----------------------+---------------------+---------------------+--------------------+---------------------+---------------------+---------------------+---------------------+---------------------+\n",
      "| Day                   | Day(Weekdays)       | Day(Weekdays)       | Day(Weekdays)      | Day(Weekdays)       | Day(Weekend)        | Day(Weekend)        | Day(Weekend)        | Day(Weekend)        |\n",
      "+-----------------------+---------------------+---------------------+--------------------+---------------------+---------------------+---------------------+---------------------+---------------------+\n",
      "| Time                  | Time(Afternoon)     | Time(Evening)       | Time(Morning)      | Time(Night)         | Time(Afternoon)     | Time(Evening)       | Time(Morning)       | Time(Night)         |\n",
      "+-----------------------+---------------------+---------------------+--------------------+---------------------+---------------------+---------------------+---------------------+---------------------+\n",
      "| Demand_Factor(High)   | 0.228494623655914   | 0.2761904761904762  | 0.2094508301404853 | 0.2509803921568628  | 0.3896940418679549  | 0.5126984126984128  | 0.22590837282780413 | 0.2882882882882883  |\n",
      "+-----------------------+---------------------+---------------------+--------------------+---------------------+---------------------+---------------------+---------------------+---------------------+\n",
      "| Demand_Factor(Low)    | 0.5026881720430108  | 0.41496598639455784 | 0.5810983397190294 | 0.49215686274509807 | 0.2592592592592593  | 0.226984126984127   | 0.42022116903633494 | 0.35585585585585583 |\n",
      "+-----------------------+---------------------+---------------------+--------------------+---------------------+---------------------+---------------------+---------------------+---------------------+\n",
      "| Demand_Factor(Medium) | 0.26881720430107525 | 0.308843537414966   | 0.2094508301404853 | 0.25686274509803925 | 0.35104669887278583 | 0.26031746031746034 | 0.353870458135861   | 0.35585585585585583 |\n",
      "+-----------------------+---------------------+---------------------+--------------------+---------------------+---------------------+---------------------+---------------------+---------------------+\n",
      "CPD of Day:\n",
      "+---------------+----------+\n",
      "| Day(Weekdays) | 0.543529 |\n",
      "+---------------+----------+\n",
      "| Day(Weekend)  | 0.456471 |\n",
      "+---------------+----------+\n",
      "[bnlearn] >Variable Elimination..\n"
     ]
    },
    {
     "name": "stderr",
     "output_type": "stream",
     "text": [
      "\n",
      "Eliminating: Day:   0%|          | 0/6 [00:00<?, ?it/s]   \u001b[A\n",
      "Eliminating: Weather:   0%|          | 0/6 [00:00<?, ?it/s]\u001b[A\n",
      "Eliminating: Outage_Duration:   0%|          | 0/6 [00:00<?, ?it/s]\u001b[A\n",
      "Eliminating: Time:   0%|          | 0/6 [00:00<?, ?it/s]           \u001b[A\n",
      "Eliminating: Overload: 100%|██████████| 6/6 [00:00<00:00, 292.70it/s]"
     ]
    },
    {
     "name": "stdout",
     "output_type": "stream",
     "text": [
      "+---------------------------+----------------------------+\n",
      "| Number_of_Customers       |   phi(Number_of_Customers) |\n",
      "+===========================+============================+\n",
      "| Number_of_Customers(High) |                     0.4612 |\n",
      "+---------------------------+----------------------------+\n",
      "| Number_of_Customers(Low)  |                     0.5388 |\n",
      "+---------------------------+----------------------------+\n",
      "\n",
      "P(Number_of_Customers=Low | Demand_Factor=High): 0.5388235294117647\n"
     ]
    },
    {
     "name": "stderr",
     "output_type": "stream",
     "text": [
      "\n"
     ]
    }
   ],
   "source": [
    "model_No_of_Cust = bn.parameter_learning.fit(model_df_sg, df_sg, methodtype=\"bayes\")\n",
    "DF_3 = bn.inference.fit(model_No_of_Cust, variables=['Number_of_Customers'], evidence={'Demand_Factor':'High'})\n",
    "print('\\nP(Number_of_Customers=Low | Demand_Factor=High):',DF_3.values[1])\n"
   ]
  }
 ],
 "metadata": {
  "kernelspec": {
   "display_name": "BNLEARN",
   "language": "python",
   "name": "bnlearn"
  },
  "language_info": {
   "codemirror_mode": {
    "name": "ipython",
    "version": 3
   },
   "file_extension": ".py",
   "mimetype": "text/x-python",
   "name": "python",
   "nbconvert_exporter": "python",
   "pygments_lexer": "ipython3",
   "version": "3.8.5"
  }
 },
 "nbformat": 4,
 "nbformat_minor": 4
}
