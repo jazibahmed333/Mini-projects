{
 "cells": [
  {
   "cell_type": "code",
   "execution_count": 37,
   "metadata": {},
   "outputs": [
    {
     "name": "stdout",
     "output_type": "stream",
     "text": [
      "Requirement already satisfied: tabulate in c:\\users\\rsamanta\\anaconda3\\lib\\site-packages (0.8.7)\n",
      "Requirement already satisfied: sklearn in c:\\users\\rsamanta\\anaconda3\\lib\\site-packages (0.0)\n",
      "Requirement already satisfied: scikit-learn in c:\\users\\rsamanta\\anaconda3\\lib\\site-packages (from sklearn) (0.23.1)\n",
      "Requirement already satisfied: joblib>=0.11 in c:\\users\\rsamanta\\anaconda3\\lib\\site-packages (from scikit-learn->sklearn) (0.16.0)\n",
      "Requirement already satisfied: scipy>=0.19.1 in c:\\users\\rsamanta\\anaconda3\\lib\\site-packages (from scikit-learn->sklearn) (1.5.0)\n",
      "Requirement already satisfied: threadpoolctl>=2.0.0 in c:\\users\\rsamanta\\anaconda3\\lib\\site-packages (from scikit-learn->sklearn) (2.1.0)\n",
      "Requirement already satisfied: numpy>=1.13.3 in c:\\users\\rsamanta\\anaconda3\\lib\\site-packages (from scikit-learn->sklearn) (1.18.5)\n"
     ]
    }
   ],
   "source": [
    "!pip install tabulate sklearn "
   ]
  },
  {
   "cell_type": "markdown",
   "metadata": {},
   "source": [
    "# Naive Bayes Classifier\n",
    "\n",
    "This notebook will introduce you the basics of Naive Bayes Algorithm for classification tasks. It includes the following content:\n",
    "\n",
    "- Brief overview of the Naive Bayes (NB) Classifier\n",
    "- An example exercise of performing inference with NB\n"
   ]
  },
  {
   "cell_type": "markdown",
   "metadata": {},
   "source": [
    "## What is a classifier?\n",
    "\n",
    "A classifier is a machine learning model that is used to discriminate different objects based on certain features. Given sample data $X$, a classifier predicts the class $y$ it belongs to.\n",
    "\n",
    "## What is Naive Bayes Classifier?\n",
    "\n",
    "A Naive Bayes classifier is a probabilistic machine learning model for classification task. It is based on Bayes theorem and imposes a strong assumption on feature independence.\n",
    "\n",
    "## Bayes Theorem\n",
    "\n",
    "$$ P(A \\mid B) = \\frac{P(B \\mid A) \\, P(A)}{P(B)} $$\n",
    "\n",
    "We can compute the probability of event A happening, given the fact that event B has occurred. Event B is the evidence and event A is the hypothesis. The assumption made by Naive Bayes is that the features are independent, i.e. the presence of one feature does not affect the other. Therefore it is called naive.\n",
    "\n",
    "Under the context of classification tasks, given the observation $X$, the classifier casts prediction on the class $y$. It can also be rewritten (with $y$ and $X$ replacing $A$ and $B$) as\n",
    "\n",
    "$$ P(y \\mid X) = \\frac{P(X \\mid y) \\, P(y)}{P(X)} $$\n",
    "\n",
    "The formula consists of four components:"
   ]
  },
  {
   "cell_type": "markdown",
   "metadata": {},
   "source": [
    "- $\n",
    "P(y \\mid X) :\n",
    "\\:$ The posterior probability, which is the probability of class $y$ given the observation $X$\n",
    "\n",
    "- $\n",
    "P(y) :\n",
    "\\:$ The Prior probability, which is the prior probability (initial belief) of class $y$\n",
    "\n",
    "- $\n",
    "P(X \\mid y) :\n",
    "\\:$The Likelihood, which is the probability of obsevation $X$ given class $y$.\n",
    "\n",
    "- $\n",
    "P(X) :\n",
    "\\:$The Evidence, which is the probability of obsevation $X$."
   ]
  },
  {
   "cell_type": "markdown",
   "metadata": {},
   "source": [
    "In classification tasks, the variable $y$ is the class label. The variable X represent the parameters/features and it usually contains multiple features/dimensions:\n",
    "\n",
    "$$ X = (x_1, x_2, x_3, ..., x_n) $$\n",
    "\n",
    "where $x_1, x_2, ..., x_n$ are the features and they are assumed to be independent in NB, i.e. $ (\\:x_i \\: \\bot \\:  x_j \\mid y)\\:\\: \\text{for all features}$ ($i \\neq j$ and $i, j \\in \\{1, 2, ...., n\\}$). By expanding using the chain rule we obtained the following:\n",
    "\n",
    "$$ P(y \\mid x_1, x_2, ..., x_n) = \\frac{P(x_1, x_2, ..., x_n \\mid y) \\, P(y)}{P(X)} = \\frac{P(x_1 \\mid y) P(x_2 \\mid y) P(x_3 \\mid y) \\cdots P(x_n \\mid y) \\, P(y)}{P(x_1) P(x_2) P(x_3) \\cdots P(x_n)} $$"
   ]
  },
  {
   "cell_type": "markdown",
   "metadata": {},
   "source": [
    "The denominator ($P(X)$) of the Bayes rule remain the same for all classes. Therefore, we can exclude it when performing inference since it is just a term for normalization. Therefore, based on the assumption on feature independence and ignoring the denominator the NB formula can be written as follows:\n",
    "\n",
    "$$ P(\\: y \\mid x_1,x_2,...,x_n)\\: \\propto P(y) \\prod_{i=1}^{i=n} P(\\:x_i\\mid y) $$\n",
    "\n",
    "In (binary) classification tasks, the class variable $y$ has two outcomes. We need to find the class $y$ with maximum probability, i.e. $ y = argmax_y P(y) \\prod_{i=1}^{i=n} P(\\:x_i\\mid y) $."
   ]
  },
  {
   "cell_type": "markdown",
   "metadata": {},
   "source": [
    "## An example exercise of performing inference with NB"
   ]
  },
  {
   "cell_type": "markdown",
   "metadata": {},
   "source": [
    "We will use the following example to strengthen our understanding in NB. The example toy dataset is for classifying whether a person owns a pet. Observations $X$ contain three features, two categorical (\"Gender\" and \"Education\") and one numerical (\"Income\"), and class label $y$ (i.e. \"Has_pet\") corresponds to whether this person owns a pet."
   ]
  },
  {
   "cell_type": "code",
   "execution_count": 38,
   "metadata": {},
   "outputs": [
    {
     "data": {
      "text/html": [
       "<table>\n",
       "<tbody>\n",
       "<tr><td>Gender</td><td>Education </td><td>Income</td><td>Has_pet</td></tr>\n",
       "<tr><td>Female</td><td>University</td><td>103000</td><td>Yes    </td></tr>\n",
       "<tr><td>Female</td><td>HighSchool</td><td>90500 </td><td>No     </td></tr>\n",
       "<tr><td>Female</td><td>HighSchool</td><td>114000</td><td>No     </td></tr>\n",
       "<tr><td>Male  </td><td>University</td><td>102000</td><td>No     </td></tr>\n",
       "<tr><td>Male  </td><td>University</td><td>75000 </td><td>Yes    </td></tr>\n",
       "<tr><td>Male  </td><td>HighSchool</td><td>90000 </td><td>No     </td></tr>\n",
       "<tr><td>Male  </td><td>HighSchool</td><td>85000 </td><td>Yes    </td></tr>\n",
       "<tr><td>Male  </td><td>University</td><td>86000 </td><td>No     </td></tr>\n",
       "</tbody>\n",
       "</table>"
      ],
      "text/plain": [
       "<IPython.core.display.HTML object>"
      ]
     },
     "metadata": {},
     "output_type": "display_data"
    }
   ],
   "source": [
    "from IPython.display import HTML, display\n",
    "import tabulate\n",
    "tab_cat = [[\"Gender\", \"Education\", \"Income\", \"Has_pet\"],\n",
    "          [\"Female\", \"University\", 103000,   \"Yes\"],\n",
    "          [\"Female\", \"HighSchool\", 90500,   \"No\"],\n",
    "          [\"Female\", \"HighSchool\", 114000,   \"No\"],\n",
    "          [\"Male\",   \"University\", 102000,   \"No\"],\n",
    "          [\"Male\",   \"University\", 75000,   \"Yes\"],\n",
    "          [\"Male\",   \"HighSchool\", 90000,   \"No\"],\n",
    "          [\"Male\",   \"HighSchool\", 85000,   \"Yes\"],\n",
    "          [\"Male\",   \"University\", 86000,   \"No\"]]\n",
    "display(HTML(tabulate.tabulate(tab_cat, tablefmt='html')))"
   ]
  },
  {
   "cell_type": "markdown",
   "metadata": {},
   "source": [
    "<div class='alert alert-block alert-success' style=\"font-weight:bolder\">\n",
    "\n",
    "### Task 2a - Compute the Likelihood table of having pet, for each categorical feature, as well as the marginal probability.\n",
    "\n",
    "- $P(Gender|Has\\_pet)$: $P(Male|Yes)$, $P(Female|Yes)$, $P(Male|No)$, $P(Female|No)$\n",
    "    \n",
    "- $P(Education|Has\\_pet)$: $P(University|Yes)$, $P(HighSchool|Yes)$, $P(University|No)$, $P(HighSchool|No)$\n",
    "    \n",
    "</div>"
   ]
  },
  {
   "cell_type": "code",
   "execution_count": 39,
   "metadata": {},
   "outputs": [
    {
     "data": {
      "text/html": [
       "<table>\n",
       "<tbody>\n",
       "<tr><td>likelihood</td><td>-         </td><td>Has_pet</td><td>-  </td><td>-        </td></tr>\n",
       "<tr><td>-         </td><td>-         </td><td>Yes    </td><td>No </td><td>P(Gender)</td></tr>\n",
       "<tr><td>Gender    </td><td>Male      </td><td>2/3    </td><td>3/5</td><td>5/8      </td></tr>\n",
       "<tr><td>-         </td><td>Female    </td><td>1/3    </td><td>2/5</td><td>3/8      </td></tr>\n",
       "<tr><td>-         </td><td>P(Has_pet)</td><td>3/8    </td><td>5/8</td><td>         </td></tr>\n",
       "</tbody>\n",
       "</table>"
      ],
      "text/plain": [
       "<IPython.core.display.HTML object>"
      ]
     },
     "metadata": {},
     "output_type": "display_data"
    },
    {
     "data": {
      "text/html": [
       "<table>\n",
       "<tbody>\n",
       "<tr><td>likelihood</td><td>-         </td><td>Has_pet</td><td>-  </td><td>-           </td></tr>\n",
       "<tr><td>-         </td><td>-         </td><td>Yes    </td><td>No </td><td>P(Education)</td></tr>\n",
       "<tr><td>Education </td><td>University</td><td>2/3    </td><td>2/5</td><td>4/8         </td></tr>\n",
       "<tr><td>-         </td><td>HighSchool</td><td>1/3    </td><td>3/5</td><td>4/8         </td></tr>\n",
       "<tr><td>-         </td><td>P(Has_pet)</td><td>3/8    </td><td>5/8</td><td>            </td></tr>\n",
       "</tbody>\n",
       "</table>"
      ],
      "text/plain": [
       "<IPython.core.display.HTML object>"
      ]
     },
     "metadata": {},
     "output_type": "display_data"
    }
   ],
   "source": [
    "tab_likelihood_gender = [\n",
    "    [\"likelihood\",\"-\",  \"Has_pet\", \"-\", \"-\"],\n",
    "    [\"-\",          \"-\",  \"Yes\", \"No\", \"P(Gender)\"],\n",
    "    [\"Gender\", \"Male\", \"2/3\", \"3/5\", \"5/8\"], \n",
    "    [\"-\", \"Female\",    \"1/3\", \"2/5\", \"3/8\"],\n",
    "    [\"-\", \"P(Has_pet)\",\"3/8\", \"5/8\", \"\"]\n",
    "]\n",
    "display(HTML(tabulate.tabulate(tab_likelihood_gender, tablefmt='html')))\n",
    "\n",
    "\n",
    "tab_likelihood_gender = [\n",
    "    [\"likelihood\",\"-\",  \"Has_pet\", \"-\", \"-\"],\n",
    "    [\"-\",          \"-\",  \"Yes\", \"No\", \"P(Education)\"],\n",
    "    [\"Education\", \"University\", \"2/3\", \"2/5\", \"4/8\"], \n",
    "    [\"-\", \"HighSchool\", \"1/3\", \"3/5\", \"4/8\"],\n",
    "    [\"-\", \"P(Has_pet)\", \"3/8\", \"5/8\", \"\"]\n",
    "]\n",
    "display(HTML(tabulate.tabulate(tab_likelihood_gender, tablefmt='html')))"
   ]
  },
  {
   "cell_type": "markdown",
   "metadata": {},
   "source": [
    "<div class='alert alert-block alert-success' style=\"font-weight:bolder\">\n",
    "\n",
    "### Task 2b - Compute posterior probability\n",
    "\n",
    "- $P(\\text{No}|\\text{Male})$, $P(\\text{Yes}|\\text{Female})$\n",
    "    \n",
    "- $P(\\text{Yes}|\\text{Univeristy})$, $P(\\text{No}|\\text{HighSchool})$\n",
    "\n",
    "</div>\n"
   ]
  },
  {
   "cell_type": "markdown",
   "metadata": {},
   "source": [
    "P(NO|Male) = 3/5, P(Yes|Female) = 1/3\n",
    "\n",
    "P(Yes|University) = 2/4, P(No|HighSchool) = 3/4"
   ]
  },
  {
   "cell_type": "markdown",
   "metadata": {},
   "source": [
    "<div class='alert alert-block alert-success' style=\"font-weight:bolder\">\n",
    "\n",
    "### Task 2c (Extra Credit) - Compute the Likelihood of having pet using mean, standard deviation, and normal distribution function:\n",
    "\n",
    "- Mean: $ \\mu = \\frac{1}{n} \\sum^{n}_{i=1}{x_i} $\n",
    "    \n",
    "- Standard Deviation $ \\sigma = \\left[ \\frac{1}{n-1} \\sum^{n}_{i=1}{(x_i-\\mu)^2} \\right]^\\frac{1}{2}  $\n",
    "    \n",
    "- Normal Distribution $f(x)=\\dfrac{1}{\\sigma\\sqrt{2\\pi}}\\,e^{-\\dfrac{(x-\\mu)^2}{2\\sigma{}^2}}$\n",
    "    \n",
    "Compute $P( \\text{Income}=9000 \\mid \\text{Yes})$, $P( \\text{Income}=9000 \\mid \\text{No})$\n",
    "\n",
    "</div>"
   ]
  },
  {
   "cell_type": "code",
   "execution_count": 40,
   "metadata": {},
   "outputs": [
    {
     "name": "stdout",
     "output_type": "stream",
     "text": [
      "𝑃(Income=9000∣Yes): 3.351319167585588e-15\n",
      "𝑃(Income=9000∣No): 5.7103460856402206e-21\n"
     ]
    }
   ],
   "source": [
    "import numpy as np\n",
    "import pandas as pd\n",
    "\n",
    "def normal_dist(x,mean,std):\n",
    "    var= std**2\n",
    "    temp= 1/(std*np.sqrt(2*np.pi))\n",
    "    LH= temp*np.exp(-((x-mean)**2)/(2*var))\n",
    "    return LH\n",
    "\n",
    "\n",
    "df = pd.DataFrame.from_records(tab_cat)\n",
    "df = df.T.set_index(0).T\n",
    "\n",
    "df_Y = df[df['Has_pet'] == 'Yes'] \n",
    "df_N = df[df['Has_pet'] == 'No']\n",
    "\n",
    "Income_Y =df_Y['Income']\n",
    "Income_N =df_N['Income']\n",
    "\n",
    "mean_Y = np.mean(Income_Y)\n",
    "std_Y = np.std(Income_Y)\n",
    "P_Income_9000_Y = normal_dist(9000, mean_Y, std_Y)\n",
    "print('𝑃(Income=9000∣Yes):',P_Income_9000_Y)\n",
    "\n",
    "mean_N = np.mean(Income_N)\n",
    "std_N = np.std(Income_N)\n",
    "P_Income_9000_N = normal_dist(9000, mean_N, std_N)\n",
    "print('𝑃(Income=9000∣No):',P_Income_9000_N)\n",
    "\n"
   ]
  },
  {
   "cell_type": "markdown",
   "metadata": {},
   "source": [
    "<div class='alert alert-block alert-success' style=\"font-weight:bolder\">\n",
    "\n",
    "### Task 2d (Extra Credit) - Making inference / casting predictions\n",
    "\n",
    "- $X=(Education=University, Gender=Female, Income=100000)$\n",
    "    \n",
    "- $X=(Education=HighSchool, Gender=Male, Income=92000)$\n",
    "\n",
    "</div>\n",
    "\n"
   ]
  },
  {
   "cell_type": "code",
   "execution_count": 41,
   "metadata": {},
   "outputs": [
    {
     "name": "stdout",
     "output_type": "stream",
     "text": [
      "Has_Pet=yes|Education=University,Gender=Female,Income=100000: 0.29980422577392163\n",
      "Has_Pet=No|Education=University,Gender=Female,Income=100000: 0.6762245549002567\n",
      "Has_Pet=yes|Education=Highschool,Gender=Male,Income=92000: 0.24998231035170046\n",
      "Has_Pet=No|Education=Highschool,Gender=Male,Income=92000: 0.7431752722700269\n"
     ]
    }
   ],
   "source": [
    "\n",
    "df_Edu_University = df[df['Education'] == 'University'] \n",
    "df_Edu_HighSchool = df[df['Education'] == 'HighSchool'] \n",
    "df_Income = df['Income']\n",
    "\n",
    "df_Gend_Female = df[df['Gender'] == 'Female'] \n",
    "df_Gend_Male= df[df['Gender'] == 'Male'] \n",
    "\n",
    "P_EduUniversity_Has_Pet_Y = len(df_Y[df_Y['Education'] == 'University']) / len(df_Y) #P(Education=University|Has_Pet=yes)\n",
    "P_GendFemale_Has_Pet_Y = len(df_Y[df_Y['Gender'] == 'Female']) / len(df_Y) #P(Gender=Female|Has_Pet=yes)\n",
    "\n",
    "P_EduUniversity_Has_Pet_N = len(df_N[df_N['Education'] == 'University']) / len(df_N) #P(Education=University|Has_Pet=No)\n",
    "P_GendFemale_Has_Pet_N = len(df_N[df_N['Gender'] == 'Female']) / len(df_N) #P(Gender=Female|Has_Pet=No)\n",
    "\n",
    "P_EduHighschool_Has_Pet_Y = len(df_Y[df_Y['Education'] == 'HighSchool']) / len(df_Y) #P(Education=HighSchool|Has_Pet=yes)\n",
    "P_GendMale_Has_Pet_Y = len(df_Y[df_Y['Gender'] == 'Male']) / len(df_Y) #P(Gender=Female|Has_Pet=yes)\n",
    "\n",
    "P_EduHighschool_Has_Pet_N = len(df_N[df_N['Education'] == 'HighSchool']) / len(df_N) #P(Education=University|Has_Pet=No)\n",
    "P_GendMale_Has_Pet_N = len(df_N[df_N['Gender'] == 'Male']) / len(df_N) #P(Gender=Female|Has_Pet=No)\n",
    "\n",
    "\n",
    "mean_Y = np.mean(Income_Y)\n",
    "std_Y = np.std(Income_Y)\n",
    "P_Income_100000_Y = normal_dist(100000, mean_Y, std_Y)\n",
    "#print('𝑃(Income=100000∣Yes):',P_Income_100000_Y)\n",
    "P_Income_100000_N = normal_dist(100000, mean_N, std_N)\n",
    "P_Income_92000_Y = normal_dist(92000, mean_Y, std_Y)\n",
    "P_Income_92000_N = normal_dist(92000, mean_N, std_N)\n",
    "\n",
    "P_Has_Pet_Y = len(df_Y) /len(df) # P(Has_Pet=yes)\n",
    "P_Has_Pet_N =len(df_N) /len(df) # P(Has_Pet=No)\n",
    "P_Edu_University = len(df_Edu_University)/len(df) # P(Education=University)\n",
    "P_Gend_Female= len(df_Gend_Female)/len(df)  # P(Gender=Female)\n",
    "P_Edu_Highschool= len(df_Edu_HighSchool)/len(df) # P(Education=Highschool)\n",
    "P_Gend_Male=len(df_Gend_Male)/len(df)  # P(Gender=Male)\n",
    "\n",
    "\n",
    "mean_Income= np.mean(df_Income)\n",
    "std_Income= np.std(df_Income)\n",
    "P_Income_100000 =normal_dist(100000, mean_Income, std_Income)\n",
    "P_Income_92000 =normal_dist(92000, mean_Income, std_Income)\n",
    "\n",
    "\n",
    "#P(Education=University|Has_Pet=yes)P(Gender=Female|Has_Pet=yes)P(Income=100000|Has_Pet=yes)P(Has_Pet=yes)\n",
    "#/ P(University)P(Female)P(Income=100000)\n",
    "\n",
    "P_Univer_Female_Income_100000_Y_Num=(P_EduUniversity_Has_Pet_Y * P_GendFemale_Has_Pet_Y * P_Income_100000_Y *P_Has_Pet_Y)\n",
    "P_Univer_Female_Income_100000_Y_Den=(P_Edu_University * P_Gend_Female * P_Income_100000)\n",
    "P_Univer_Female_Income_100000_Y = P_Univer_Female_Income_100000_Y_Num / P_Univer_Female_Income_100000_Y_Den\n",
    "print('Has_Pet=yes|Education=University,Gender=Female,Income=100000:',P_Univer_Female_Income_100000_Y)\n",
    "\n",
    "#P(Education=University|Has_Pet=No)P(Gender=Female|Has_Pet=No)P(Income=100000|Has_Pet=No)P(Has_Pet=No)\n",
    "#/ P(University)P(Female)P(Income=100000)\n",
    "\n",
    "P_Univer_Female_Income_100000_Y_Num=(P_EduUniversity_Has_Pet_N * P_GendFemale_Has_Pet_N * P_Income_100000_N *P_Has_Pet_N)\n",
    "P_Univer_Female_Income_100000_Y_Den=(P_Edu_University * P_Gend_Female * P_Income_100000)\n",
    "P_Univer_Female_Income_100000_Y = P_Univer_Female_Income_100000_Y_Num / P_Univer_Female_Income_100000_Y_Den\n",
    "print('Has_Pet=No|Education=University,Gender=Female,Income=100000:',P_Univer_Female_Income_100000_Y)\n",
    "\n",
    "\n",
    "#P(Education=HighSchool|Has_Pet=yes)P(Gender=Male|Has_Pet=yes)P(Income=92000|Has_Pet=yes)P(Has_Pet=yes)\n",
    "#/ P(HighSchool)P(Male)P(Income=92000)\n",
    "\n",
    "P_HighSch_Male_Income_92000_Y_Num = P_EduHighschool_Has_Pet_Y*P_GendMale_Has_Pet_Y*P_Income_92000_Y*P_Has_Pet_Y\n",
    "P_HighSch_Male_Income_92000_Y_Den = P_Edu_Highschool*P_Gend_Male*P_Income_92000\n",
    "P_HighSch_Male_Income_92000_Y= P_HighSch_Male_Income_92000_Y_Num/P_HighSch_Male_Income_92000_Y_Den\n",
    "print('Has_Pet=yes|Education=Highschool,Gender=Male,Income=92000:',P_HighSch_Male_Income_92000_Y)\n",
    "\n",
    "#P(Education=HighSchool|Has_Pet=No)P(Gender=Male|Has_Pet=No)P(Income=92000|Has_Pet=No)P(Has_Pet=No)\n",
    "#/ P(HighSchool)P(Male)P(Income=92000)\n",
    "\n",
    "P_HighSch_Male_Income_92000_N_Num = P_EduHighschool_Has_Pet_N *P_GendMale_Has_Pet_N*P_Income_92000_N*P_Has_Pet_N\n",
    "P_HighSch_Male_Income_92000_N_Den = P_Edu_Highschool*P_Gend_Male*P_Income_92000\n",
    "P_HighSch_Male_Income_92000_N = P_HighSch_Male_Income_92000_N_Num/P_HighSch_Male_Income_92000_N_Den\n",
    "print('Has_Pet=No|Education=Highschool,Gender=Male,Income=92000:',P_HighSch_Male_Income_92000_N)\n"
   ]
  },
  {
   "cell_type": "markdown",
   "metadata": {},
   "source": [
    "<div class='alert alert-block alert-success' style=\"font-weight:bolder\">\n",
    "\n",
    "### Task 2e (Extra Credit) Implementing a Naive Bayes Classifier and performing classification on the Iris dataset. Note that the Iris dataset only contains numerical features.\n",
    "\n",
    "</div>\n",
    "\n",
    "\n"
   ]
  },
  {
   "cell_type": "code",
   "execution_count": 42,
   "metadata": {
    "scrolled": false
   },
   "outputs": [
    {
     "data": {
      "text/html": [
       "<div>\n",
       "<style scoped>\n",
       "    .dataframe tbody tr th:only-of-type {\n",
       "        vertical-align: middle;\n",
       "    }\n",
       "\n",
       "    .dataframe tbody tr th {\n",
       "        vertical-align: top;\n",
       "    }\n",
       "\n",
       "    .dataframe thead th {\n",
       "        text-align: right;\n",
       "    }\n",
       "</style>\n",
       "<table border=\"1\" class=\"dataframe\">\n",
       "  <thead>\n",
       "    <tr style=\"text-align: right;\">\n",
       "      <th></th>\n",
       "      <th>sepal length (cm)</th>\n",
       "      <th>sepal width (cm)</th>\n",
       "      <th>petal length (cm)</th>\n",
       "      <th>petal width (cm)</th>\n",
       "      <th>target</th>\n",
       "    </tr>\n",
       "  </thead>\n",
       "  <tbody>\n",
       "    <tr>\n",
       "      <th>0</th>\n",
       "      <td>5.1</td>\n",
       "      <td>3.5</td>\n",
       "      <td>1.4</td>\n",
       "      <td>0.2</td>\n",
       "      <td>0.0</td>\n",
       "    </tr>\n",
       "    <tr>\n",
       "      <th>1</th>\n",
       "      <td>4.9</td>\n",
       "      <td>3.0</td>\n",
       "      <td>1.4</td>\n",
       "      <td>0.2</td>\n",
       "      <td>0.0</td>\n",
       "    </tr>\n",
       "    <tr>\n",
       "      <th>2</th>\n",
       "      <td>4.7</td>\n",
       "      <td>3.2</td>\n",
       "      <td>1.3</td>\n",
       "      <td>0.2</td>\n",
       "      <td>0.0</td>\n",
       "    </tr>\n",
       "    <tr>\n",
       "      <th>3</th>\n",
       "      <td>4.6</td>\n",
       "      <td>3.1</td>\n",
       "      <td>1.5</td>\n",
       "      <td>0.2</td>\n",
       "      <td>0.0</td>\n",
       "    </tr>\n",
       "    <tr>\n",
       "      <th>4</th>\n",
       "      <td>5.0</td>\n",
       "      <td>3.6</td>\n",
       "      <td>1.4</td>\n",
       "      <td>0.2</td>\n",
       "      <td>0.0</td>\n",
       "    </tr>\n",
       "    <tr>\n",
       "      <th>...</th>\n",
       "      <td>...</td>\n",
       "      <td>...</td>\n",
       "      <td>...</td>\n",
       "      <td>...</td>\n",
       "      <td>...</td>\n",
       "    </tr>\n",
       "    <tr>\n",
       "      <th>145</th>\n",
       "      <td>6.7</td>\n",
       "      <td>3.0</td>\n",
       "      <td>5.2</td>\n",
       "      <td>2.3</td>\n",
       "      <td>2.0</td>\n",
       "    </tr>\n",
       "    <tr>\n",
       "      <th>146</th>\n",
       "      <td>6.3</td>\n",
       "      <td>2.5</td>\n",
       "      <td>5.0</td>\n",
       "      <td>1.9</td>\n",
       "      <td>2.0</td>\n",
       "    </tr>\n",
       "    <tr>\n",
       "      <th>147</th>\n",
       "      <td>6.5</td>\n",
       "      <td>3.0</td>\n",
       "      <td>5.2</td>\n",
       "      <td>2.0</td>\n",
       "      <td>2.0</td>\n",
       "    </tr>\n",
       "    <tr>\n",
       "      <th>148</th>\n",
       "      <td>6.2</td>\n",
       "      <td>3.4</td>\n",
       "      <td>5.4</td>\n",
       "      <td>2.3</td>\n",
       "      <td>2.0</td>\n",
       "    </tr>\n",
       "    <tr>\n",
       "      <th>149</th>\n",
       "      <td>5.9</td>\n",
       "      <td>3.0</td>\n",
       "      <td>5.1</td>\n",
       "      <td>1.8</td>\n",
       "      <td>2.0</td>\n",
       "    </tr>\n",
       "  </tbody>\n",
       "</table>\n",
       "<p>150 rows × 5 columns</p>\n",
       "</div>"
      ],
      "text/plain": [
       "     sepal length (cm)  sepal width (cm)  petal length (cm)  petal width (cm)  \\\n",
       "0                  5.1               3.5                1.4               0.2   \n",
       "1                  4.9               3.0                1.4               0.2   \n",
       "2                  4.7               3.2                1.3               0.2   \n",
       "3                  4.6               3.1                1.5               0.2   \n",
       "4                  5.0               3.6                1.4               0.2   \n",
       "..                 ...               ...                ...               ...   \n",
       "145                6.7               3.0                5.2               2.3   \n",
       "146                6.3               2.5                5.0               1.9   \n",
       "147                6.5               3.0                5.2               2.0   \n",
       "148                6.2               3.4                5.4               2.3   \n",
       "149                5.9               3.0                5.1               1.8   \n",
       "\n",
       "     target  \n",
       "0       0.0  \n",
       "1       0.0  \n",
       "2       0.0  \n",
       "3       0.0  \n",
       "4       0.0  \n",
       "..      ...  \n",
       "145     2.0  \n",
       "146     2.0  \n",
       "147     2.0  \n",
       "148     2.0  \n",
       "149     2.0  \n",
       "\n",
       "[150 rows x 5 columns]"
      ]
     },
     "execution_count": 42,
     "metadata": {},
     "output_type": "execute_result"
    }
   ],
   "source": [
    "import math \n",
    "import random \n",
    "from sklearn.datasets import load_iris\n",
    "\n",
    "iris = load_iris()\n",
    "X, y = iris[\"data\"], iris[\"target\"]\n",
    "#print(\"data\", X)\n",
    "#print(\"class/label\", y)\n",
    "iris_data = pd.DataFrame(data=np.c_[iris['data'],iris['target']], columns = iris['feature_names']+['target'])\n",
    "iris_data"
   ]
  },
  {
   "cell_type": "code",
   "execution_count": 43,
   "metadata": {},
   "outputs": [],
   "source": [
    "# spliting data to train and test\n",
    "def splitting(mydataIn,mydataOut, ratio):\n",
    "    train_num_in = int(len(mydataIn) * ratio)\n",
    "    train_num_out = int(len(mydataOut) * ratio)\n",
    "    X_train_data = []\n",
    "    y_train_data = []\n",
    "    # initally testset will have all the dataset\n",
    "    X_test_data = list(mydataIn)\n",
    "    y_test_data = list(mydataOut)\n",
    "    while len(X_train_data) < train_num_in:\n",
    "        # index generated randomly from range 0 to length of X_test_dataset\n",
    "        index = random.randrange(len(X_test_data))\n",
    "        # from testset, pop data rows and put it in train_data\n",
    "        X_train_data.append(X_test_data.pop(index))\n",
    "        y_train_data.append(y_test_data.pop(index))\n",
    "    return X_train_data, X_test_data,y_train_data, y_test_data\n",
    "\n",
    "ratio = 0.7\n",
    "X_train_data, X_test_data, y_train_data, y_test_data = splitting(X,y, ratio)\n",
    "NoOfClasses = np.unique(y_train_data)"
   ]
  },
  {
   "cell_type": "code",
   "execution_count": 44,
   "metadata": {},
   "outputs": [],
   "source": [
    "def CalMeanStdPriorProb_eachLabel(X_train_data, y_train_data,NoOfClasses):\n",
    "    classMean=dict()\n",
    "    classStd =dict()\n",
    "    PriorProb=dict()\n",
    "    for i in range(len(NoOfClasses)):\n",
    "        Temp=y_train_data==NoOfClasses[i]\n",
    "        Ind=np.where(Temp)[0]\n",
    "        Temp_X_train_data=[]\n",
    "        for j in range(len(Ind)):\n",
    "            Temp_X_train_data.append(X_train_data[Ind[j]])\n",
    "        classMean[NoOfClasses[i]] = np.mean(Temp_X_train_data, axis=0)\n",
    "        classStd[NoOfClasses[i]] = np.std(Temp_X_train_data, axis=0)\n",
    "        PriorProb[NoOfClasses[i]]  = len(Ind)/len(X_train_data)\n",
    "    return classMean, classStd, PriorProb\n",
    "\n",
    "def Likelihood_calc(x,mean,std):\n",
    "    var= std**2\n",
    "    temp= 1/(std*np.sqrt(2*np.pi))\n",
    "    LH= np.product(temp*np.exp(-((x-mean)**2)/(2*var)),axis=1)\n",
    "    return LH\n",
    "\n",
    "def PosteriorProb_eachLabel(X_test_data, classMean, classStd, PriorProb,NoOfClasses):\n",
    "    posteriorProbOut =np.zeros((len(X_test_data), len(NoOfClasses)))\n",
    "    for ii in range(len(NoOfClasses)):\n",
    "        Likelihood_eachLabel= Likelihood_calc(X_test_data, classMean[ii], classStd[ii])\n",
    "        posteriorProbOut[:, ii] =(Likelihood_eachLabel) *PriorProb[ii]\n",
    "    return posteriorProbOut"
   ]
  },
  {
   "cell_type": "code",
   "execution_count": 45,
   "metadata": {},
   "outputs": [
    {
     "name": "stdout",
     "output_type": "stream",
     "text": [
      "Mean Squared Error 0.022222222222222223\n"
     ]
    }
   ],
   "source": [
    "LabelMean, LabelStd, PriorProb = CalMeanStdPriorProb_eachLabel(X_train_data, y_train_data,NoOfClasses)\n",
    "posteriorProbOut = PosteriorProb_eachLabel(X_test_data, LabelMean, LabelStd, PriorProb,NoOfClasses)\n",
    "Prediction= np.argmax(posteriorProbOut, axis=1)\n",
    "\n",
    "print('Mean Squared Error',((sum(y_test_data-Prediction)**2)/len(y_test_data)))"
   ]
  }
 ],
 "metadata": {
  "kernelspec": {
   "display_name": "Python 3",
   "language": "python",
   "name": "python3"
  },
  "language_info": {
   "codemirror_mode": {
    "name": "ipython",
    "version": 3
   },
   "file_extension": ".py",
   "mimetype": "text/x-python",
   "name": "python",
   "nbconvert_exporter": "python",
   "pygments_lexer": "ipython3",
   "version": "3.8.3"
  }
 },
 "nbformat": 4,
 "nbformat_minor": 4
}
