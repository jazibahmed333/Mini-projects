{
 "cells": [
  {
   "cell_type": "code",
   "execution_count": 1,
   "metadata": {},
   "outputs": [],
   "source": [
    "import path_planning as pp\n",
    "import matplotlib.pyplot as plt\n",
    "import numpy as np\n",
    "import search_algorithm as sa"
   ]
  },
  {
   "cell_type": "code",
   "execution_count": 2,
   "metadata": {},
   "outputs": [
    {
     "data": {
      "text/plain": [
       "(-0.5, 29.5, 49.5, -0.5)"
      ]
     },
     "execution_count": 2,
     "metadata": {},
     "output_type": "execute_result"
    },
    {
     "data": {
      "image/png": "[encoded data removed]",
      "text/plain": [
       "<Figure size 432x288 with 1 Axes>"
      ]
     },
     "metadata": {
      "needs_background": "light"
     },
     "output_type": "display_data"
    }
   ],
   "source": [
    "\"\"\"\n",
    "create maps with obstacles randomly distributed\n",
    "cells with a value of 0: Free cell; \n",
    "                     -1: Obstacle;\n",
    "                     -2: Start point;\n",
    "                     -3: Goal point;\n",
    "\"\"\"\n",
    "\n",
    "# create a map with obstacles randomly distributed\n",
    "map_2d = pp.generateMap2d([30,50])\n",
    "#with np.printoptions(threshold=np.inf):\n",
    "#    print(map_2d)\n",
    "plt.clf()\n",
    "plt.imshow(map_2d)\n",
    "plt.axis('off')"
   ]
  },
  {
   "cell_type": "code",
   "execution_count": 3,
   "metadata": {},
   "outputs": [
    {
     "name": "stdout",
     "output_type": "stream",
     "text": [
      "y_top 48 | y_bottom 8 | x_wall 31 \n"
     ]
    }
   ],
   "source": [
    "# create a map with rotated H shape obstacle and obstacles randomly distributed\n",
    "map_h_object, info = pp.generateMap2d_obstacle([60,60])\n",
    "print(f\"y_top {info[0]} | y_bottom {info[1]} | x_wall {info[2]} \")\n",
    "#with np.printoptions(threshold=np.inf):\n",
    "#    print(map_h_object)\n",
    "#plt.clf()\n",
    "#plt.imshow(map_h_object)\n",
    "#plt.axis('off')"
   ]
  },
  {
   "cell_type": "code",
   "execution_count": 4,
   "metadata": {},
   "outputs": [
    {
     "name": "stdout",
     "output_type": "stream",
     "text": [
      "Start: (array([0], dtype=int64), array([29], dtype=int64))\n",
      "Start: 0\n",
      "Start: 29\n",
      "Goal: (array([9], dtype=int64), array([21], dtype=int64))\n",
      "Goal: 9\n",
      "Goal: 21\n",
      "(array([0], dtype=int64), array([29], dtype=int64))\n"
     ]
    }
   ],
   "source": [
    "map_2d_arr = np.array(map_2d)\n",
    "locObstacle = np.where(map_2d_arr == -1)\n",
    "locStart, locEnd = np.where(map_2d_arr == -2), np.where(map_2d_arr == -3)\n",
    "#print('Obstacle:',locObstacle)\n",
    "print('Start:',locStart)\n",
    "print('Start:',locStart[0][0])\n",
    "print('Start:',locStart[1][0])\n",
    "print('Goal:',locEnd)\n",
    "print('Goal:',locEnd[0][0])\n",
    "print('Goal:',locEnd[1][0])\n",
    "start = (locStart[0][0], locStart[1][0])  # (0, 0)\n",
    "end = (locEnd[0][0], locEnd[1][0])  # (7, 6)\n",
    "map_2d_Temp=map_2d\n",
    "#map_2d=np.where(map_2d==-2, 0, map_2d)\n",
    "#map_2d=np.where(map_2d==-3, 0, map_2d)\n",
    "start_ = np.where(map_2d==-2)\n",
    "print(start_)\n",
    "map_2d[start_] =0\n",
    "end_ = np.where(map_2d==-3)\n",
    "map_2d[end_] =0"
   ]
  },
  {
   "cell_type": "code",
   "execution_count": 5,
   "metadata": {},
   "outputs": [
    {
     "name": "stdout",
     "output_type": "stream",
     "text": [
      "Length of Explored Nodes BFS:  158\n",
      "\n",
      "ShortestPath: [(0, 29), (0, 28), (0, 27), (1, 27), (1, 26), (1, 25), (1, 24), (1, 23), (1, 22), (1, 21), (2, 21), (3, 21), (4, 21), (5, 21), (6, 21), (7, 21), (8, 21), (9, 21)]\n"
     ]
    },
    {
     "data": {
      "text/plain": [
       "<Figure size 432x288 with 0 Axes>"
      ]
     },
     "metadata": {},
     "output_type": "display_data"
    },
    {
     "data": {
      "image/png": "[encoded data removed]",
      "text/plain": [
       "<Figure size 432x288 with 2 Axes>"
      ]
     },
     "metadata": {
      "needs_background": "light"
     },
     "output_type": "display_data"
    }
   ],
   "source": [
    "################# BFS ####################################################################\n",
    "ShortestPath,Cost, map_Temp=sa.search(map_2d,start,end,info,'BFS')\n",
    "print('\\nShortestPath:',ShortestPath)\n",
    "map_Temp[end_]=-3\n",
    "map_Temp[start_]=-2\n",
    "# set value of f(n), i.e. evaluation function (or cost g(n), heuristic h(n)), for (opened) cell n\n",
    "example_solved_map = map_Temp #map_h_object\n",
    "example_solved_map[0, 0] = 20\n",
    "example_solved_path = np.array(ShortestPath)#np.array([range(30)]).reshape(15, 2)\n",
    "plt.clf()\n",
    "pp.plotMap(example_solved_map, example_solved_path)\n",
    "##########################################################################################"
   ]
  },
  {
   "cell_type": "code",
   "execution_count": 6,
   "metadata": {},
   "outputs": [
    {
     "name": "stdout",
     "output_type": "stream",
     "text": [
      "Length of Explored Nodes DFS:  179\n",
      "\n",
      "ShortestPath: [(0, 29), (0, 28), (0, 27), (1, 27), (1, 26), (1, 25), (1, 24), (1, 23), (1, 22), (1, 21), (1, 20), (1, 19), (1, 18), (1, 17), (1, 16), (1, 15), (1, 14), (1, 13), (1, 12), (1, 11), (1, 10), (1, 9), (1, 8), (2, 8), (2, 7), (2, 6), (2, 5), (2, 4), (2, 3), (2, 2), (2, 1), (2, 0), (3, 0), (4, 0), (4, 1), (4, 2), (4, 3), (4, 4), (5, 4), (6, 4), (6, 3), (6, 2), (6, 1), (6, 0), (7, 0), (8, 0), (8, 1), (8, 2), (8, 3), (8, 4), (8, 5), (9, 5), (9, 6), (9, 7), (9, 8), (10, 8), (10, 9), (10, 10), (10, 11), (10, 12), (10, 13), (10, 14), (9, 14), (9, 15), (9, 16), (9, 17), (9, 18), (8, 18), (8, 19), (8, 20), (8, 21), (9, 21)]\n"
     ]
    },
    {
     "data": {
      "text/plain": [
       "<Figure size 432x288 with 0 Axes>"
      ]
     },
     "metadata": {},
     "output_type": "display_data"
    },
    {
     "data": {
      "image/png": "[encoded data removed]",
      "text/plain": [
       "<Figure size 432x288 with 2 Axes>"
      ]
     },
     "metadata": {
      "needs_background": "light"
     },
     "output_type": "display_data"
    }
   ],
   "source": [
    "################# DFS ####################################################################\n",
    "ShortestPath,Cost, map_Temp=sa.search(map_2d,start,end,info,'DFS')\n",
    "print('\\nShortestPath:',ShortestPath)\n",
    "map_Temp[end_]=-3\n",
    "map_Temp[start_]=-2\n",
    "# set value of f(n), i.e. evaluation function (or cost g(n), heuristic h(n)), for (opened) cell n\n",
    "example_solved_map = map_Temp #map_h_object\n",
    "example_solved_map[0, 0] = 20\n",
    "example_solved_path = np.array(ShortestPath)#np.array([range(30)]).reshape(15, 2)\n",
    "plt.clf()\n",
    "pp.plotMap(example_solved_map, example_solved_path)\n",
    "\n",
    "\n",
    "##########################################################################################"
   ]
  },
  {
   "cell_type": "code",
   "execution_count": 7,
   "metadata": {},
   "outputs": [
    {
     "name": "stdout",
     "output_type": "stream",
     "text": [
      "Length of Explored Nodes Greedy:  42\n",
      "\n",
      "ShortestPath: [(0, 29), (1, 29), (2, 29), (3, 29), (4, 29), (5, 29), (6, 29), (6, 28), (7, 28), (8, 28), (9, 28), (9, 27), (9, 26), (8, 26), (8, 25), (8, 24), (8, 23), (8, 22), (8, 21), (9, 21)]\n"
     ]
    },
    {
     "data": {
      "text/plain": [
       "<Figure size 432x288 with 0 Axes>"
      ]
     },
     "metadata": {},
     "output_type": "display_data"
    },
    {
     "data": {
      "image/png": "[encoded data removed]",
      "text/plain": [
       "<Figure size 432x288 with 2 Axes>"
      ]
     },
     "metadata": {
      "needs_background": "light"
     },
     "output_type": "display_data"
    }
   ],
   "source": [
    "################# Greedy ####################################################################\n",
    "ShortestPath,Cost, map_Temp=sa.search(map_2d,start,end,info,'Greedy')\n",
    "print('\\nShortestPath:',ShortestPath)\n",
    "map_Temp[end_]=-3\n",
    "map_Temp[start_]=-2\n",
    "# set value of f(n), i.e. evaluation function (or cost g(n), heuristic h(n)), for (opened) cell n\n",
    "example_solved_map = map_Temp #map_h_object\n",
    "example_solved_map[0, 0] = 20\n",
    "example_solved_path = np.array(ShortestPath)#np.array([range(30)]).reshape(15, 2)\n",
    "plt.clf()\n",
    "pp.plotMap(example_solved_map, example_solved_path)\n",
    "\n",
    "\n",
    "##########################################################################################"
   ]
  },
  {
   "cell_type": "code",
   "execution_count": 8,
   "metadata": {},
   "outputs": [
    {
     "name": "stdout",
     "output_type": "stream",
     "text": [
      "Length of Explored Nodes aStarE:  34\n",
      "\n",
      "ShortestPath: [(0, 29), (1, 29), (2, 29), (2, 28), (3, 28), (4, 28), (4, 27), (4, 26), (4, 25), (5, 25), (6, 25), (6, 24), (7, 24), (7, 23), (8, 23), (8, 22), (8, 21), (9, 21)]\n"
     ]
    },
    {
     "data": {
      "text/plain": [
       "<Figure size 432x288 with 0 Axes>"
      ]
     },
     "metadata": {},
     "output_type": "display_data"
    },
    {
     "data": {
      "image/png": "[encoded data removed]",
      "text/plain": [
       "<Figure size 432x288 with 2 Axes>"
      ]
     },
     "metadata": {
      "needs_background": "light"
     },
     "output_type": "display_data"
    }
   ],
   "source": [
    "################## AStarE ########################################################\n",
    "ShortestPath,Cost, map_Temp = sa.search(map_2d,start,end,info,'aStarE')\n",
    "print('\\nShortestPath:',ShortestPath)\n",
    "#print(map_Temp)\n",
    "#print('Cost:',Cost)\n",
    "map_Temp[end_]=-3\n",
    "map_Temp[start_]=-2\n",
    "example_solved_map = map_Temp #map_h_object\n",
    "example_solved_map[0, 0] = 20\n",
    "example_solved_path = np.array(ShortestPath)#np.array([range(30)]).reshape(15, 2)\n",
    "plt.clf()\n",
    "pp.plotMap(example_solved_map, example_solved_path)\n",
    "\n",
    "#map_2d= map_2d_Temp\n",
    "\n",
    "#map_2d_Temp[end_]=-3\n",
    "#map_2d_Temp[start_]=-2\n",
    "#######################################"
   ]
  },
  {
   "cell_type": "code",
   "execution_count": 9,
   "metadata": {},
   "outputs": [
    {
     "name": "stdout",
     "output_type": "stream",
     "text": [
      "Length of Explored Nodes aStarM:  89\n",
      "\n",
      "ShortestPath: [(0, 29), (1, 29), (2, 29), (3, 29), (4, 29), (5, 29), (6, 29), (6, 28), (7, 28), (8, 28), (8, 27), (8, 26), (8, 25), (8, 24), (8, 23), (8, 22), (8, 21), (9, 21)]\n"
     ]
    },
    {
     "data": {
      "text/plain": [
       "<Figure size 432x288 with 0 Axes>"
      ]
     },
     "metadata": {},
     "output_type": "display_data"
    },
    {
     "data": {
      "image/png": "[encoded data removed]",
      "text/plain": [
       "<Figure size 432x288 with 2 Axes>"
      ]
     },
     "metadata": {
      "needs_background": "light"
     },
     "output_type": "display_data"
    }
   ],
   "source": [
    "################## AStarM ########################################################\n",
    "ShortestPath,Cost, map_Temp = sa.search(map_2d,start,end,info,'aStarM')\n",
    "print('\\nShortestPath:',ShortestPath)\n",
    "#print(map_Temp)\n",
    "#print('Cost:',Cost)\n",
    "map_Temp[end_]=-3\n",
    "map_Temp[start_]=-2\n",
    "example_solved_map = map_Temp #map_h_object\n",
    "example_solved_map[0, 0] = 20\n",
    "example_solved_path = np.array(ShortestPath)#np.array([range(30)]).reshape(15, 2)\n",
    "plt.clf()\n",
    "pp.plotMap(example_solved_map, example_solved_path)\n",
    "#################################################################"
   ]
  },
  {
   "cell_type": "code",
   "execution_count": 10,
   "metadata": {},
   "outputs": [
    {
     "name": "stdout",
     "output_type": "stream",
     "text": [
      "2\n",
      "Random search found DFS\n",
      "Length of Explored Nodes DFS:  179\n",
      "\n",
      "ShortestPath: [(0, 29), (0, 28), (0, 27), (1, 27), (1, 26), (1, 25), (1, 24), (1, 23), (1, 22), (1, 21), (1, 20), (1, 19), (1, 18), (1, 17), (1, 16), (1, 15), (1, 14), (1, 13), (1, 12), (1, 11), (1, 10), (1, 9), (1, 8), (2, 8), (2, 7), (2, 6), (2, 5), (2, 4), (2, 3), (2, 2), (2, 1), (2, 0), (3, 0), (4, 0), (4, 1), (4, 2), (4, 3), (4, 4), (5, 4), (6, 4), (6, 3), (6, 2), (6, 1), (6, 0), (7, 0), (8, 0), (8, 1), (8, 2), (8, 3), (8, 4), (8, 5), (9, 5), (9, 6), (9, 7), (9, 8), (10, 8), (10, 9), (10, 10), (10, 11), (10, 12), (10, 13), (10, 14), (9, 14), (9, 15), (9, 16), (9, 17), (9, 18), (8, 18), (8, 19), (8, 20), (8, 21), (9, 21)]\n"
     ]
    },
    {
     "data": {
      "text/plain": [
       "<Figure size 432x288 with 0 Axes>"
      ]
     },
     "metadata": {},
     "output_type": "display_data"
    },
    {
     "data": {
      "image/png": "[encoded data removed]",
      "text/plain": [
       "<Figure size 432x288 with 2 Axes>"
      ]
     },
     "metadata": {
      "needs_background": "light"
     },
     "output_type": "display_data"
    }
   ],
   "source": [
    "################## Random Search ########################################################\n",
    "ShortestPath,Cost, map_Temp = sa.search(map_2d,start,end,info,'Random')\n",
    "print('\\nShortestPath:',ShortestPath)\n",
    "#print(map_Temp)\n",
    "#print('Cost:',Cost)\n",
    "map_Temp[end_]=-3\n",
    "map_Temp[start_]=-2\n",
    "example_solved_map = map_Temp #map_h_object\n",
    "example_solved_map[0, 0] = 20\n",
    "example_solved_path = np.array(ShortestPath)#np.array([range(30)]).reshape(15, 2)\n",
    "plt.clf()\n",
    "pp.plotMap(example_solved_map, example_solved_path)\n",
    "#################################################################"
   ]
  },
  {
   "cell_type": "code",
   "execution_count": null,
   "metadata": {},
   "outputs": [],
   "source": []
  }
 ],
 "metadata": {
  "kernelspec": {
   "display_name": "Python 3",
   "language": "python",
   "name": "python3"
  },
  "language_info": {
   "codemirror_mode": {
    "name": "ipython",
    "version": 3
   },
   "file_extension": ".py",
   "mimetype": "text/x-python",
   "name": "python",
   "nbconvert_exporter": "python",
   "pygments_lexer": "ipython3",
   "version": "3.8.3"
  }
 },
 "nbformat": 4,
 "nbformat_minor": 4
}
